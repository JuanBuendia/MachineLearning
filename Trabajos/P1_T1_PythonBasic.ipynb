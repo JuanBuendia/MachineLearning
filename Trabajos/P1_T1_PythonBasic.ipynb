{
  "nbformat": 4,
  "nbformat_minor": 0,
  "metadata": {
    "colab": {
      "name": "P1T1_PythonBasic.ipynb",
      "provenance": [],
      "toc_visible": true
    },
    "kernelspec": {
      "name": "python3",
      "display_name": "Python 3"
    },
    "language_info": {
      "name": "python"
    }
  },
  "cells": [
    {
      "cell_type": "markdown",
      "source": [
        "#Metadata:\n",
        "\n",
        "*   @Author: Juan David Buendía Loyo\n",
        "*   @Date: 2022/02/12\n",
        "*   @Description: This Python notebook shows basic exercises\n",
        "\n"
      ],
      "metadata": {
        "id": "1pVbXH0HymqF"
      }
    },
    {
      "cell_type": "markdown",
      "source": [
        "#Ejercicios Basicos\n"
      ],
      "metadata": {
        "id": "zQViZqKUz8zy"
      }
    },
    {
      "cell_type": "markdown",
      "source": [
        "##Ejercicio 1: Productos + IVA\n"
      ],
      "metadata": {
        "id": "5_3iA5uYqNTQ"
      }
    },
    {
      "cell_type": "code",
      "source": [
        "product_1 = int(input(\"Input first product net value: \"))\n",
        "product_2 = int(input(\"Input second product net value: \"))\n",
        "product_3 = int(input(\"Input third product net value: \"))\n",
        "product_4 = int(input(\"Input fourth product net value: \"))\n",
        "product_5 = int(input(\"Input fith product net value: \"))\n",
        "total = product_1 + product_2 + product_3 + product_4 + product_5\n",
        "print(\"Subtotal is: \", total)\n",
        "print(\"You have to pay: \", int(total * 1.19))"
      ],
      "metadata": {
        "colab": {
          "base_uri": "https://localhost:8080/"
        },
        "id": "-1lbHAEwpXFf",
        "outputId": "46e50f93-196a-426d-fccf-46c306bf05d9"
      },
      "execution_count": null,
      "outputs": [
        {
          "output_type": "stream",
          "name": "stdout",
          "text": [
            "Input first product net value: 1000\n",
            "Input second product net value: 1000\n",
            "Input third product net value: 1000\n",
            "Input fourth product net value: 1000\n",
            "Input fith product net value: 1000\n",
            "Subtotal is:  5000\n",
            "You have to pay:  5950\n"
          ]
        }
      ]
    },
    {
      "cell_type": "markdown",
      "source": [
        "###Versión Python:"
      ],
      "metadata": {
        "id": "wgMXVl2B3tY9"
      }
    },
    {
      "cell_type": "code",
      "source": [
        "prod1, prod2, prod3, prod4, prod5 = (input(\"Input the products value separated with commas:\")).split(\",\")\n",
        "subtotal = (int(prod1) + int(prod2) + int(prod3) + int(prod4) + int(prod5))\n",
        "print(\"Total: \", subtotal, \"Total + IVA:\", int(subtotal*1.19))"
      ],
      "metadata": {
        "colab": {
          "base_uri": "https://localhost:8080/"
        },
        "id": "5ODm8jvh3ryM",
        "outputId": "d4475cfd-8e3a-4600-c22d-cd78bf8fcc8c"
      },
      "execution_count": 8,
      "outputs": [
        {
          "output_type": "stream",
          "name": "stdout",
          "text": [
            "Input the products value separated with commas:1,2,3,4,5\n",
            "Total:  15 Total + IVA: 17\n"
          ]
        }
      ]
    },
    {
      "cell_type": "markdown",
      "source": [
        "##Ejercicio 2: Mayor menor y promedio"
      ],
      "metadata": {
        "id": "ybf_VVj-6sv4"
      }
    },
    {
      "cell_type": "code",
      "source": [
        "number1 = int(input('Enter First number : '))\n",
        "number2 = int(input('Enter Second number : '))\n",
        "number3 = int(input('Enter Third number : '))\n",
        "def largest(num1, num2, num3):\n",
        "    if (num1 > num2) and (num1 > num3):\n",
        "        largest_num = num1\n",
        "    elif (num2 > num1) and (num2 > num3):\n",
        "        largest_num = num2\n",
        "    else:\n",
        "        largest_num = num3\n",
        "    print(\"The largest of the 3 numbers is : \", largest_num)\n",
        "def smallest(num1, num2, num3):\n",
        "    if (num1 < num2) and (num1 < num3):\n",
        "        smallest_num = num1\n",
        "    elif (num2 < num1) and (num2 < num3):\n",
        "        smallest_num = num2\n",
        "    else:\n",
        "        smallest_num = num3\n",
        "    print(\"The smallest of the 3 numbers is : \", smallest_num)\n",
        "largest(number1, number2, number3)\n",
        "smallest(number1, number2, number3)\n",
        "print(\"Average: \", (number1 + number2 + number3) / 3)"
      ],
      "metadata": {
        "colab": {
          "base_uri": "https://localhost:8080/"
        },
        "id": "p2bAyxBz7El8",
        "outputId": "571a1200-a9b6-4ddc-a303-88af1f1ac8fe"
      },
      "execution_count": null,
      "outputs": [
        {
          "output_type": "stream",
          "name": "stdout",
          "text": [
            "Enter First number : 55\n",
            "Enter Second number : 945\n",
            "Enter Third number : 100\n",
            "The largest of the 3 numbers is :  945\n",
            "The smallest of the 3 numbers is :  55\n",
            "Average:  366.6666666666667\n"
          ]
        }
      ]
    },
    {
      "cell_type": "markdown",
      "source": [
        "###Versión Python"
      ],
      "metadata": {
        "id": "ijrG4TYWA2gR"
      }
    },
    {
      "cell_type": "code",
      "source": [
        "var1, var2, var3 = input (\"ingrese tres numéros separados por coma:\").split(\",\")\n",
        "print(\"Menor: \", min(int(var1), int(var2), int(var3)), \" Max: \", max(int(var1), int(var2), int(var3)))\n",
        "print(\"Promedio: \", ( (int(var1) + int(var2) + int(var3)) / 3))"
      ],
      "metadata": {
        "id": "kdABC0iGA9P7",
        "colab": {
          "base_uri": "https://localhost:8080/"
        },
        "outputId": "b1dd9073-4b9a-4253-d757-e86adac7ca9d"
      },
      "execution_count": 14,
      "outputs": [
        {
          "output_type": "stream",
          "name": "stdout",
          "text": [
            "ingrese tres numéros separados por coma:1,67,23\n",
            "Menor:  1  Max:  67\n",
            "Promedio:  30.333333333333332\n"
          ]
        }
      ]
    },
    {
      "cell_type": "markdown",
      "source": [
        "##Ejercicio 3: Ordenar lista de tamaño N de mayor a menor y de menor a mayor\n"
      ],
      "metadata": {
        "id": "ZEQB-OT1Pqda"
      }
    },
    {
      "cell_type": "code",
      "source": [
        "import random\n",
        "number = int(input('Enter list size: '))\n",
        "lista= [ random.randrange(number) for i in range(number)]\n",
        "print(lista, sorted(lista), sorted(lista, reverse=True))"
      ],
      "metadata": {
        "colab": {
          "base_uri": "https://localhost:8080/"
        },
        "id": "cpTHQ05cQm1A",
        "outputId": "357516eb-5b56-4f29-bccc-9a898c89dc9a"
      },
      "execution_count": 23,
      "outputs": [
        {
          "output_type": "stream",
          "name": "stdout",
          "text": [
            "Enter list size: 15\n",
            "[12, 13, 3, 10, 0, 12, 6, 3, 12, 11, 9, 12, 6, 3, 2] [0, 2, 3, 3, 3, 6, 6, 9, 10, 11, 12, 12, 12, 12, 13] [13, 12, 12, 12, 12, 11, 10, 9, 6, 6, 3, 3, 3, 2, 0]\n"
          ]
        }
      ]
    }
  ]
}