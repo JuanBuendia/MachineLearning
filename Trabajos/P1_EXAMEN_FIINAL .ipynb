{
  "nbformat": 4,
  "nbformat_minor": 0,
  "metadata": {
    "colab": {
      "name": "P1_EXAMEN_FIINAL.ipynb",
      "provenance": [],
      "toc_visible": true,
      "collapsed_sections": []
    },
    "kernelspec": {
      "name": "python3",
      "display_name": "Python 3"
    },
    "language_info": {
      "name": "python"
    }
  },
  "cells": [
    {
      "cell_type": "markdown",
      "source": [
        "#Quienes somos:\n",
        "\n",
        "*   Juan David Buendía Loyo\n",
        "*   Juan Camilo Arguelles\n",
        "*   Juan Camilo Mancipe\n",
        "*   Brayan Steven Tarache\n",
        "*   Jeffernson Alvarez  \n",
        "\n",
        "* Violencia de género e intrafamiliar\n",
        "---\n",
        "Origen de la data:\n",
        "https://www.datos.gov.co/xxxxxxxxx\n",
        "\n",
        "\n"
      ],
      "metadata": {
        "id": "lvAGyDZ8xRR6"
      }
    },
    {
      "cell_type": "markdown",
      "source": [
        "#P0. importar librerias (5%)"
      ],
      "metadata": {
        "id": "7xSNTCuKycKX"
      }
    },
    {
      "cell_type": "markdown",
      "source": [
        "##P0.1 librerias genericas"
      ],
      "metadata": {
        "id": "ZtWObboVygow"
      }
    },
    {
      "cell_type": "code",
      "source": [
        "#Librerias generales para administración de la data\n",
        "import pandas as pd\n",
        "import numpy as np\n",
        "import random as rd\n",
        "import matplotlib.pyplot as plt\n",
        "import seaborn as sns\n",
        "\n",
        "from mpl_toolkits.mplot3d import Axes3D\n",
        "%matplotlib inline"
      ],
      "metadata": {
        "id": "FTNaZxrDykJH"
      },
      "execution_count": 1,
      "outputs": []
    },
    {
      "cell_type": "markdown",
      "source": [
        "##P0.2 librerias para Machine learning"
      ],
      "metadata": {
        "id": "4xDAw9coyk9Q"
      }
    },
    {
      "cell_type": "code",
      "source": [
        "#Librerias especializadas para hacer machine learning (k-means y/o otros)\n",
        "from sklearn.cluster import KMeans\n",
        "from sklearn.cluster import KMeans\n",
        "from sklearn import preprocessing  #para normalizar los datos antes de aplicar al algoritmo\n",
        "from sklearn.metrics import pairwise_distances_argmin_min\n",
        "from sklearn import metrics \n",
        "# Regresion logística \n",
        "from sklearn.linear_model import LogisticRegression\n",
        "from sklearn.model_selection import train_test_split\n",
        "\n",
        "# Módulo necesario para trabajar Árboles\n",
        "from sklearn.tree import DecisionTreeClassifier"
      ],
      "metadata": {
        "id": "FKu_AavIzieR"
      },
      "execution_count": 2,
      "outputs": []
    },
    {
      "cell_type": "markdown",
      "source": [
        "#P1. importando dataset (5%)"
      ],
      "metadata": {
        "id": "4_T1DhPnzXZW"
      }
    },
    {
      "cell_type": "code",
      "execution_count": 3,
      "metadata": {
        "id": "0xA-Px9nxKuW",
        "colab": {
          "base_uri": "https://localhost:8080/",
          "height": 0
        },
        "outputId": "a1a030d0-aa91-4220-e671-fd39b24c6e5e"
      },
      "outputs": [
        {
          "output_type": "execute_result",
          "data": {
            "text/plain": [
              "   Orden Departamento    Municipio  semana   año Grupo edad Ciclo de vida  \\\n",
              "0      1    SANTANDER  BUCARAMANGA      23  2015    12 a 17  Adolescencia   \n",
              "1      2    SANTANDER  BUCARAMANGA       5  2015    12 a 17  Adolescencia   \n",
              "2      3    SANTANDER  BUCARAMANGA      29  2015    12 a 17  Adolescencia   \n",
              "3      4    SANTANDER  BUCARAMANGA      16  2015    12 a 17  Adolescencia   \n",
              "4      5    SANTANDER  BUCARAMANGA      44  2015    12 a 17  Adolescencia   \n",
              "5      6    SANTANDER  BUCARAMANGA      45  2015    12 a 17  Adolescencia   \n",
              "6      7    SANTANDER  BUCARAMANGA      47  2015    12 a 17  Adolescencia   \n",
              "7      8    SANTANDER  BUCARAMANGA      45  2015    12 a 17  Adolescencia   \n",
              "8      9    SANTANDER  BUCARAMANGA      26  2015    7  a 11      Infancia   \n",
              "9     10    SANTANDER  BUCARAMANGA      17  2015    18 a 28       Jovenes   \n",
              "\n",
              "       sexo_               area_            Barrio  ... sust_vict  \\\n",
              "0  Masculino  CABECERA MUNICIPAL        Transición  ...         2   \n",
              "1  Masculino  CABECERA MUNICIPAL           Betania  ...         2   \n",
              "2   Femenino  CABECERA MUNICIPAL        EL MIRADOR  ...         2   \n",
              "3   Femenino  CABECERA MUNICIPAL         María Paz  ...         2   \n",
              "4   Femenino  CABECERA MUNICIPAL         Colorados  ...         2   \n",
              "5  Masculino  CABECERA MUNICIPAL       Café Madrid  ...         2   \n",
              "6   Femenino  CABECERA MUNICIPAL       UNIVERSIDAD  ...         2   \n",
              "7   Femenino  CABECERA MUNICIPAL  Colseguros Norte  ...         2   \n",
              "8   Femenino  CABECERA MUNICIPAL         María Paz  ...         2   \n",
              "9   Femenino  CABECERA MUNICIPAL        Villa Rosa  ...         2   \n",
              "\n",
              "                 fec_hecho      hora_hecho  escenario zona_conf  \\\n",
              "0  2015-06-12T00:00:00.000  06:30:00 a. m.        1.0       2.0   \n",
              "1  2015-02-04T00:00:00.000  10:00:00 a. m.        1.0       2.0   \n",
              "2  2015-07-21T00:00:00.000  08:00:00 a. m.        2.0       2.0   \n",
              "3  2015-04-22T00:00:00.000  01:30:00 p. m.        1.0       2.0   \n",
              "4  2015-11-01T00:00:00.000  08:00:00 p. m.        7.0       2.0   \n",
              "5  2015-11-10T00:00:00.000  12:00:00 a. m.        7.0       2.0   \n",
              "6  2015-11-25T00:00:00.000  09:15:00 a. m.        3.0       2.0   \n",
              "7  2015-11-14T00:00:00.000  08:00:00 p. m.        1.0       2.0   \n",
              "8  2015-07-01T00:00:00.000  04:00:00 p. m.        2.0       2.0   \n",
              "9  2015-04-28T00:00:00.000  01:00:00 a. m.        2.0       2.0   \n",
              "\n",
              "                                             nom_eve  \\\n",
              "0  VIGILANCIA EN SALUD PÚBLICA DE LAS VIOLENCIAS ...   \n",
              "1  VIGILANCIA EN SALUD PÚBLICA DE LAS VIOLENCIAS ...   \n",
              "2  VIGILANCIA EN SALUD PÚBLICA DE LAS VIOLENCIAS ...   \n",
              "3  VIGILANCIA EN SALUD PÚBLICA DE LAS VIOLENCIAS ...   \n",
              "4  VIGILANCIA EN SALUD PÚBLICA DE LAS VIOLENCIAS ...   \n",
              "5  VIGILANCIA EN SALUD PÚBLICA DE LAS VIOLENCIAS ...   \n",
              "6  VIGILANCIA EN SALUD PÚBLICA DE LAS VIOLENCIAS ...   \n",
              "7  VIGILANCIA EN SALUD PÚBLICA DE LAS VIOLENCIAS ...   \n",
              "8  VIGILANCIA EN SALUD PÚBLICA DE LAS VIOLENCIAS ...   \n",
              "9  VIGILANCIA EN SALUD PÚBLICA DE LAS VIOLENCIAS ...   \n",
              "\n",
              "                              nom_upgd  ndep_resi    nmun_resi            MES  \n",
              "0           SERVICLINICOS DROMEDICA SA  SANTANDER  BUCARAMANGA      06. Junio  \n",
              "1             HOSPITAL LOCAL DEL NORTE  SANTANDER  BUCARAMANGA    02. Febrero  \n",
              "2  HOSPITAL UNIVERSITARIO DE SANTANDER  SANTANDER  BUCARAMANGA      07. Julio  \n",
              "3             HOSPITAL LOCAL DEL NORTE  SANTANDER  BUCARAMANGA      04. Abril  \n",
              "4             HOSPITAL LOCAL DEL NORTE  SANTANDER  BUCARAMANGA  11. Noviembre  \n",
              "5          CENTRO DE SALUD CAFE MADRID  SANTANDER  BUCARAMANGA  11. Noviembre  \n",
              "6             HOSPITAL LOCAL DEL NORTE  SANTANDER  BUCARAMANGA  11. Noviembre  \n",
              "7           SERVICLINICOS DROMEDICA SA  SANTANDER  BUCARAMANGA  11. Noviembre  \n",
              "8             HOSPITAL LOCAL DEL NORTE  SANTANDER  BUCARAMANGA      07. Julio  \n",
              "9             HOSPITAL LOCAL DEL NORTE  SANTANDER  BUCARAMANGA      04. Abril  \n",
              "\n",
              "[10 rows x 32 columns]"
            ],
            "text/html": [
              "\n",
              "  <div id=\"df-19a2ad08-83e0-4faf-b534-fe6b144fa9f0\">\n",
              "    <div class=\"colab-df-container\">\n",
              "      <div>\n",
              "<style scoped>\n",
              "    .dataframe tbody tr th:only-of-type {\n",
              "        vertical-align: middle;\n",
              "    }\n",
              "\n",
              "    .dataframe tbody tr th {\n",
              "        vertical-align: top;\n",
              "    }\n",
              "\n",
              "    .dataframe thead th {\n",
              "        text-align: right;\n",
              "    }\n",
              "</style>\n",
              "<table border=\"1\" class=\"dataframe\">\n",
              "  <thead>\n",
              "    <tr style=\"text-align: right;\">\n",
              "      <th></th>\n",
              "      <th>Orden</th>\n",
              "      <th>Departamento</th>\n",
              "      <th>Municipio</th>\n",
              "      <th>semana</th>\n",
              "      <th>año</th>\n",
              "      <th>Grupo edad</th>\n",
              "      <th>Ciclo de vida</th>\n",
              "      <th>sexo_</th>\n",
              "      <th>area_</th>\n",
              "      <th>Barrio</th>\n",
              "      <th>...</th>\n",
              "      <th>sust_vict</th>\n",
              "      <th>fec_hecho</th>\n",
              "      <th>hora_hecho</th>\n",
              "      <th>escenario</th>\n",
              "      <th>zona_conf</th>\n",
              "      <th>nom_eve</th>\n",
              "      <th>nom_upgd</th>\n",
              "      <th>ndep_resi</th>\n",
              "      <th>nmun_resi</th>\n",
              "      <th>MES</th>\n",
              "    </tr>\n",
              "  </thead>\n",
              "  <tbody>\n",
              "    <tr>\n",
              "      <th>0</th>\n",
              "      <td>1</td>\n",
              "      <td>SANTANDER</td>\n",
              "      <td>BUCARAMANGA</td>\n",
              "      <td>23</td>\n",
              "      <td>2015</td>\n",
              "      <td>12 a 17</td>\n",
              "      <td>Adolescencia</td>\n",
              "      <td>Masculino</td>\n",
              "      <td>CABECERA MUNICIPAL</td>\n",
              "      <td>Transición</td>\n",
              "      <td>...</td>\n",
              "      <td>2</td>\n",
              "      <td>2015-06-12T00:00:00.000</td>\n",
              "      <td>06:30:00 a. m.</td>\n",
              "      <td>1.0</td>\n",
              "      <td>2.0</td>\n",
              "      <td>VIGILANCIA EN SALUD PÚBLICA DE LAS VIOLENCIAS ...</td>\n",
              "      <td>SERVICLINICOS DROMEDICA SA</td>\n",
              "      <td>SANTANDER</td>\n",
              "      <td>BUCARAMANGA</td>\n",
              "      <td>06. Junio</td>\n",
              "    </tr>\n",
              "    <tr>\n",
              "      <th>1</th>\n",
              "      <td>2</td>\n",
              "      <td>SANTANDER</td>\n",
              "      <td>BUCARAMANGA</td>\n",
              "      <td>5</td>\n",
              "      <td>2015</td>\n",
              "      <td>12 a 17</td>\n",
              "      <td>Adolescencia</td>\n",
              "      <td>Masculino</td>\n",
              "      <td>CABECERA MUNICIPAL</td>\n",
              "      <td>Betania</td>\n",
              "      <td>...</td>\n",
              "      <td>2</td>\n",
              "      <td>2015-02-04T00:00:00.000</td>\n",
              "      <td>10:00:00 a. m.</td>\n",
              "      <td>1.0</td>\n",
              "      <td>2.0</td>\n",
              "      <td>VIGILANCIA EN SALUD PÚBLICA DE LAS VIOLENCIAS ...</td>\n",
              "      <td>HOSPITAL LOCAL DEL NORTE</td>\n",
              "      <td>SANTANDER</td>\n",
              "      <td>BUCARAMANGA</td>\n",
              "      <td>02. Febrero</td>\n",
              "    </tr>\n",
              "    <tr>\n",
              "      <th>2</th>\n",
              "      <td>3</td>\n",
              "      <td>SANTANDER</td>\n",
              "      <td>BUCARAMANGA</td>\n",
              "      <td>29</td>\n",
              "      <td>2015</td>\n",
              "      <td>12 a 17</td>\n",
              "      <td>Adolescencia</td>\n",
              "      <td>Femenino</td>\n",
              "      <td>CABECERA MUNICIPAL</td>\n",
              "      <td>EL MIRADOR</td>\n",
              "      <td>...</td>\n",
              "      <td>2</td>\n",
              "      <td>2015-07-21T00:00:00.000</td>\n",
              "      <td>08:00:00 a. m.</td>\n",
              "      <td>2.0</td>\n",
              "      <td>2.0</td>\n",
              "      <td>VIGILANCIA EN SALUD PÚBLICA DE LAS VIOLENCIAS ...</td>\n",
              "      <td>HOSPITAL UNIVERSITARIO DE SANTANDER</td>\n",
              "      <td>SANTANDER</td>\n",
              "      <td>BUCARAMANGA</td>\n",
              "      <td>07. Julio</td>\n",
              "    </tr>\n",
              "    <tr>\n",
              "      <th>3</th>\n",
              "      <td>4</td>\n",
              "      <td>SANTANDER</td>\n",
              "      <td>BUCARAMANGA</td>\n",
              "      <td>16</td>\n",
              "      <td>2015</td>\n",
              "      <td>12 a 17</td>\n",
              "      <td>Adolescencia</td>\n",
              "      <td>Femenino</td>\n",
              "      <td>CABECERA MUNICIPAL</td>\n",
              "      <td>María Paz</td>\n",
              "      <td>...</td>\n",
              "      <td>2</td>\n",
              "      <td>2015-04-22T00:00:00.000</td>\n",
              "      <td>01:30:00 p. m.</td>\n",
              "      <td>1.0</td>\n",
              "      <td>2.0</td>\n",
              "      <td>VIGILANCIA EN SALUD PÚBLICA DE LAS VIOLENCIAS ...</td>\n",
              "      <td>HOSPITAL LOCAL DEL NORTE</td>\n",
              "      <td>SANTANDER</td>\n",
              "      <td>BUCARAMANGA</td>\n",
              "      <td>04. Abril</td>\n",
              "    </tr>\n",
              "    <tr>\n",
              "      <th>4</th>\n",
              "      <td>5</td>\n",
              "      <td>SANTANDER</td>\n",
              "      <td>BUCARAMANGA</td>\n",
              "      <td>44</td>\n",
              "      <td>2015</td>\n",
              "      <td>12 a 17</td>\n",
              "      <td>Adolescencia</td>\n",
              "      <td>Femenino</td>\n",
              "      <td>CABECERA MUNICIPAL</td>\n",
              "      <td>Colorados</td>\n",
              "      <td>...</td>\n",
              "      <td>2</td>\n",
              "      <td>2015-11-01T00:00:00.000</td>\n",
              "      <td>08:00:00 p. m.</td>\n",
              "      <td>7.0</td>\n",
              "      <td>2.0</td>\n",
              "      <td>VIGILANCIA EN SALUD PÚBLICA DE LAS VIOLENCIAS ...</td>\n",
              "      <td>HOSPITAL LOCAL DEL NORTE</td>\n",
              "      <td>SANTANDER</td>\n",
              "      <td>BUCARAMANGA</td>\n",
              "      <td>11. Noviembre</td>\n",
              "    </tr>\n",
              "    <tr>\n",
              "      <th>5</th>\n",
              "      <td>6</td>\n",
              "      <td>SANTANDER</td>\n",
              "      <td>BUCARAMANGA</td>\n",
              "      <td>45</td>\n",
              "      <td>2015</td>\n",
              "      <td>12 a 17</td>\n",
              "      <td>Adolescencia</td>\n",
              "      <td>Masculino</td>\n",
              "      <td>CABECERA MUNICIPAL</td>\n",
              "      <td>Café Madrid</td>\n",
              "      <td>...</td>\n",
              "      <td>2</td>\n",
              "      <td>2015-11-10T00:00:00.000</td>\n",
              "      <td>12:00:00 a. m.</td>\n",
              "      <td>7.0</td>\n",
              "      <td>2.0</td>\n",
              "      <td>VIGILANCIA EN SALUD PÚBLICA DE LAS VIOLENCIAS ...</td>\n",
              "      <td>CENTRO DE SALUD CAFE MADRID</td>\n",
              "      <td>SANTANDER</td>\n",
              "      <td>BUCARAMANGA</td>\n",
              "      <td>11. Noviembre</td>\n",
              "    </tr>\n",
              "    <tr>\n",
              "      <th>6</th>\n",
              "      <td>7</td>\n",
              "      <td>SANTANDER</td>\n",
              "      <td>BUCARAMANGA</td>\n",
              "      <td>47</td>\n",
              "      <td>2015</td>\n",
              "      <td>12 a 17</td>\n",
              "      <td>Adolescencia</td>\n",
              "      <td>Femenino</td>\n",
              "      <td>CABECERA MUNICIPAL</td>\n",
              "      <td>UNIVERSIDAD</td>\n",
              "      <td>...</td>\n",
              "      <td>2</td>\n",
              "      <td>2015-11-25T00:00:00.000</td>\n",
              "      <td>09:15:00 a. m.</td>\n",
              "      <td>3.0</td>\n",
              "      <td>2.0</td>\n",
              "      <td>VIGILANCIA EN SALUD PÚBLICA DE LAS VIOLENCIAS ...</td>\n",
              "      <td>HOSPITAL LOCAL DEL NORTE</td>\n",
              "      <td>SANTANDER</td>\n",
              "      <td>BUCARAMANGA</td>\n",
              "      <td>11. Noviembre</td>\n",
              "    </tr>\n",
              "    <tr>\n",
              "      <th>7</th>\n",
              "      <td>8</td>\n",
              "      <td>SANTANDER</td>\n",
              "      <td>BUCARAMANGA</td>\n",
              "      <td>45</td>\n",
              "      <td>2015</td>\n",
              "      <td>12 a 17</td>\n",
              "      <td>Adolescencia</td>\n",
              "      <td>Femenino</td>\n",
              "      <td>CABECERA MUNICIPAL</td>\n",
              "      <td>Colseguros Norte</td>\n",
              "      <td>...</td>\n",
              "      <td>2</td>\n",
              "      <td>2015-11-14T00:00:00.000</td>\n",
              "      <td>08:00:00 p. m.</td>\n",
              "      <td>1.0</td>\n",
              "      <td>2.0</td>\n",
              "      <td>VIGILANCIA EN SALUD PÚBLICA DE LAS VIOLENCIAS ...</td>\n",
              "      <td>SERVICLINICOS DROMEDICA SA</td>\n",
              "      <td>SANTANDER</td>\n",
              "      <td>BUCARAMANGA</td>\n",
              "      <td>11. Noviembre</td>\n",
              "    </tr>\n",
              "    <tr>\n",
              "      <th>8</th>\n",
              "      <td>9</td>\n",
              "      <td>SANTANDER</td>\n",
              "      <td>BUCARAMANGA</td>\n",
              "      <td>26</td>\n",
              "      <td>2015</td>\n",
              "      <td>7  a 11</td>\n",
              "      <td>Infancia</td>\n",
              "      <td>Femenino</td>\n",
              "      <td>CABECERA MUNICIPAL</td>\n",
              "      <td>María Paz</td>\n",
              "      <td>...</td>\n",
              "      <td>2</td>\n",
              "      <td>2015-07-01T00:00:00.000</td>\n",
              "      <td>04:00:00 p. m.</td>\n",
              "      <td>2.0</td>\n",
              "      <td>2.0</td>\n",
              "      <td>VIGILANCIA EN SALUD PÚBLICA DE LAS VIOLENCIAS ...</td>\n",
              "      <td>HOSPITAL LOCAL DEL NORTE</td>\n",
              "      <td>SANTANDER</td>\n",
              "      <td>BUCARAMANGA</td>\n",
              "      <td>07. Julio</td>\n",
              "    </tr>\n",
              "    <tr>\n",
              "      <th>9</th>\n",
              "      <td>10</td>\n",
              "      <td>SANTANDER</td>\n",
              "      <td>BUCARAMANGA</td>\n",
              "      <td>17</td>\n",
              "      <td>2015</td>\n",
              "      <td>18 a 28</td>\n",
              "      <td>Jovenes</td>\n",
              "      <td>Femenino</td>\n",
              "      <td>CABECERA MUNICIPAL</td>\n",
              "      <td>Villa Rosa</td>\n",
              "      <td>...</td>\n",
              "      <td>2</td>\n",
              "      <td>2015-04-28T00:00:00.000</td>\n",
              "      <td>01:00:00 a. m.</td>\n",
              "      <td>2.0</td>\n",
              "      <td>2.0</td>\n",
              "      <td>VIGILANCIA EN SALUD PÚBLICA DE LAS VIOLENCIAS ...</td>\n",
              "      <td>HOSPITAL LOCAL DEL NORTE</td>\n",
              "      <td>SANTANDER</td>\n",
              "      <td>BUCARAMANGA</td>\n",
              "      <td>04. Abril</td>\n",
              "    </tr>\n",
              "  </tbody>\n",
              "</table>\n",
              "<p>10 rows × 32 columns</p>\n",
              "</div>\n",
              "      <button class=\"colab-df-convert\" onclick=\"convertToInteractive('df-19a2ad08-83e0-4faf-b534-fe6b144fa9f0')\"\n",
              "              title=\"Convert this dataframe to an interactive table.\"\n",
              "              style=\"display:none;\">\n",
              "        \n",
              "  <svg xmlns=\"http://www.w3.org/2000/svg\" height=\"24px\"viewBox=\"0 0 24 24\"\n",
              "       width=\"24px\">\n",
              "    <path d=\"M0 0h24v24H0V0z\" fill=\"none\"/>\n",
              "    <path d=\"M18.56 5.44l.94 2.06.94-2.06 2.06-.94-2.06-.94-.94-2.06-.94 2.06-2.06.94zm-11 1L8.5 8.5l.94-2.06 2.06-.94-2.06-.94L8.5 2.5l-.94 2.06-2.06.94zm10 10l.94 2.06.94-2.06 2.06-.94-2.06-.94-.94-2.06-.94 2.06-2.06.94z\"/><path d=\"M17.41 7.96l-1.37-1.37c-.4-.4-.92-.59-1.43-.59-.52 0-1.04.2-1.43.59L10.3 9.45l-7.72 7.72c-.78.78-.78 2.05 0 2.83L4 21.41c.39.39.9.59 1.41.59.51 0 1.02-.2 1.41-.59l7.78-7.78 2.81-2.81c.8-.78.8-2.07 0-2.86zM5.41 20L4 18.59l7.72-7.72 1.47 1.35L5.41 20z\"/>\n",
              "  </svg>\n",
              "      </button>\n",
              "      \n",
              "  <style>\n",
              "    .colab-df-container {\n",
              "      display:flex;\n",
              "      flex-wrap:wrap;\n",
              "      gap: 12px;\n",
              "    }\n",
              "\n",
              "    .colab-df-convert {\n",
              "      background-color: #E8F0FE;\n",
              "      border: none;\n",
              "      border-radius: 50%;\n",
              "      cursor: pointer;\n",
              "      display: none;\n",
              "      fill: #1967D2;\n",
              "      height: 32px;\n",
              "      padding: 0 0 0 0;\n",
              "      width: 32px;\n",
              "    }\n",
              "\n",
              "    .colab-df-convert:hover {\n",
              "      background-color: #E2EBFA;\n",
              "      box-shadow: 0px 1px 2px rgba(60, 64, 67, 0.3), 0px 1px 3px 1px rgba(60, 64, 67, 0.15);\n",
              "      fill: #174EA6;\n",
              "    }\n",
              "\n",
              "    [theme=dark] .colab-df-convert {\n",
              "      background-color: #3B4455;\n",
              "      fill: #D2E3FC;\n",
              "    }\n",
              "\n",
              "    [theme=dark] .colab-df-convert:hover {\n",
              "      background-color: #434B5C;\n",
              "      box-shadow: 0px 1px 3px 1px rgba(0, 0, 0, 0.15);\n",
              "      filter: drop-shadow(0px 1px 2px rgba(0, 0, 0, 0.3));\n",
              "      fill: #FFFFFF;\n",
              "    }\n",
              "  </style>\n",
              "\n",
              "      <script>\n",
              "        const buttonEl =\n",
              "          document.querySelector('#df-19a2ad08-83e0-4faf-b534-fe6b144fa9f0 button.colab-df-convert');\n",
              "        buttonEl.style.display =\n",
              "          google.colab.kernel.accessAllowed ? 'block' : 'none';\n",
              "\n",
              "        async function convertToInteractive(key) {\n",
              "          const element = document.querySelector('#df-19a2ad08-83e0-4faf-b534-fe6b144fa9f0');\n",
              "          const dataTable =\n",
              "            await google.colab.kernel.invokeFunction('convertToInteractive',\n",
              "                                                     [key], {});\n",
              "          if (!dataTable) return;\n",
              "\n",
              "          const docLinkHtml = 'Like what you see? Visit the ' +\n",
              "            '<a target=\"_blank\" href=https://colab.research.google.com/notebooks/data_table.ipynb>data table notebook</a>'\n",
              "            + ' to learn more about interactive tables.';\n",
              "          element.innerHTML = '';\n",
              "          dataTable['output_type'] = 'display_data';\n",
              "          await google.colab.output.renderOutput(dataTable, element);\n",
              "          const docLink = document.createElement('div');\n",
              "          docLink.innerHTML = docLinkHtml;\n",
              "          element.appendChild(docLink);\n",
              "        }\n",
              "      </script>\n",
              "    </div>\n",
              "  </div>\n",
              "  "
            ]
          },
          "metadata": {},
          "execution_count": 3
        }
      ],
      "source": [
        "df_parcial = pd.read_csv(\"https://raw.githubusercontent.com/jcamilo260/Machine-Learning/master/DataSetViolencia.csv\")\n",
        "df_parcial.head(10)  "
      ]
    },
    {
      "cell_type": "markdown",
      "source": [
        "#P2.Conociendo y normalizando los datos (30%)\n"
      ],
      "metadata": {
        "id": "PoriSFw20WD4"
      }
    },
    {
      "cell_type": "markdown",
      "source": [
        "###P2.0 generales (10%)\n",
        "\n",
        "---\n",
        "*   dimensiones del dataframe\n",
        "*   existen columnas con nulos?\n",
        "*   todos las columnas son númericos?\n",
        "*   existen valores negativos?...si existen que hacemos con ellos?\n"
      ],
      "metadata": {
        "id": "V4kVMLqYm8t0"
      }
    },
    {
      "cell_type": "code",
      "source": [
        "# Dimensiones del Data Frame\n",
        "print(f\"Filas {df_parcial.shape[0]}, columnas {df_parcial.shape[1]}\")\n",
        "df_parcial.shape"
      ],
      "metadata": {
        "colab": {
          "base_uri": "https://localhost:8080/"
        },
        "id": "VnDqFqfFANTw",
        "outputId": "d57fb814-f513-467b-f186-f2f5ae3af6d7"
      },
      "execution_count": 4,
      "outputs": [
        {
          "output_type": "stream",
          "name": "stdout",
          "text": [
            "Filas 20080, columnas 32\n"
          ]
        },
        {
          "output_type": "execute_result",
          "data": {
            "text/plain": [
              "(20080, 32)"
            ]
          },
          "metadata": {},
          "execution_count": 4
        }
      ]
    },
    {
      "cell_type": "code",
      "source": [
        "# Conociendo los datos\n",
        "df_parcial.describe()"
      ],
      "metadata": {
        "colab": {
          "base_uri": "https://localhost:8080/",
          "height": 364
        },
        "id": "0C8Xj_wA_x-E",
        "outputId": "50a943c3-fb0e-4ded-a2e5-d1849e7c439d"
      },
      "execution_count": 5,
      "outputs": [
        {
          "output_type": "execute_result",
          "data": {
            "text/plain": [
              "              Orden        semana           año      pac_hos_      con_fin_  \\\n",
              "count  20080.000000  20080.000000  20080.000000  20080.000000  20080.000000   \n",
              "mean    5021.328735     25.253237   2017.606175      1.713795      1.001693   \n",
              "std     2899.805482     14.979354      2.061624      0.451998      0.049873   \n",
              "min        1.000000      1.000000   2015.000000      1.000000      0.000000   \n",
              "25%     2510.750000     12.000000   2016.000000      1.000000      1.000000   \n",
              "50%     5020.500000     24.500000   2017.000000      2.000000      1.000000   \n",
              "75%     7530.250000     38.000000   2019.000000      2.000000      1.000000   \n",
              "max    10169.000000     53.000000   2022.000000      2.000000      2.000000   \n",
              "\n",
              "         naturaleza     actividad     edad_agre     sust_vict     escenario  \\\n",
              "count  19989.000000  20080.000000  14911.000000  20080.000000  19364.000000   \n",
              "mean       8.725499     27.003835     20.534505      1.987002      2.507488   \n",
              "std       23.501524      3.294505     17.036742      0.113268      1.997260   \n",
              "min        1.000000      8.000000      0.000000      1.000000      1.000000   \n",
              "25%        1.000000     24.000000      0.000000      2.000000      2.000000   \n",
              "50%        3.000000     26.000000     22.000000      2.000000      2.000000   \n",
              "75%        3.000000     28.000000     32.000000      2.000000      2.000000   \n",
              "max       99.000000     33.000000     99.000000      2.000000     12.000000   \n",
              "\n",
              "          zona_conf  \n",
              "count  17784.000000  \n",
              "mean       2.000169  \n",
              "std        1.264204  \n",
              "min        0.000000  \n",
              "25%        2.000000  \n",
              "50%        2.000000  \n",
              "75%        2.000000  \n",
              "max        7.000000  "
            ],
            "text/html": [
              "\n",
              "  <div id=\"df-7f2f782e-934e-49f9-8b90-87aec8f2543e\">\n",
              "    <div class=\"colab-df-container\">\n",
              "      <div>\n",
              "<style scoped>\n",
              "    .dataframe tbody tr th:only-of-type {\n",
              "        vertical-align: middle;\n",
              "    }\n",
              "\n",
              "    .dataframe tbody tr th {\n",
              "        vertical-align: top;\n",
              "    }\n",
              "\n",
              "    .dataframe thead th {\n",
              "        text-align: right;\n",
              "    }\n",
              "</style>\n",
              "<table border=\"1\" class=\"dataframe\">\n",
              "  <thead>\n",
              "    <tr style=\"text-align: right;\">\n",
              "      <th></th>\n",
              "      <th>Orden</th>\n",
              "      <th>semana</th>\n",
              "      <th>año</th>\n",
              "      <th>pac_hos_</th>\n",
              "      <th>con_fin_</th>\n",
              "      <th>naturaleza</th>\n",
              "      <th>actividad</th>\n",
              "      <th>edad_agre</th>\n",
              "      <th>sust_vict</th>\n",
              "      <th>escenario</th>\n",
              "      <th>zona_conf</th>\n",
              "    </tr>\n",
              "  </thead>\n",
              "  <tbody>\n",
              "    <tr>\n",
              "      <th>count</th>\n",
              "      <td>20080.000000</td>\n",
              "      <td>20080.000000</td>\n",
              "      <td>20080.000000</td>\n",
              "      <td>20080.000000</td>\n",
              "      <td>20080.000000</td>\n",
              "      <td>19989.000000</td>\n",
              "      <td>20080.000000</td>\n",
              "      <td>14911.000000</td>\n",
              "      <td>20080.000000</td>\n",
              "      <td>19364.000000</td>\n",
              "      <td>17784.000000</td>\n",
              "    </tr>\n",
              "    <tr>\n",
              "      <th>mean</th>\n",
              "      <td>5021.328735</td>\n",
              "      <td>25.253237</td>\n",
              "      <td>2017.606175</td>\n",
              "      <td>1.713795</td>\n",
              "      <td>1.001693</td>\n",
              "      <td>8.725499</td>\n",
              "      <td>27.003835</td>\n",
              "      <td>20.534505</td>\n",
              "      <td>1.987002</td>\n",
              "      <td>2.507488</td>\n",
              "      <td>2.000169</td>\n",
              "    </tr>\n",
              "    <tr>\n",
              "      <th>std</th>\n",
              "      <td>2899.805482</td>\n",
              "      <td>14.979354</td>\n",
              "      <td>2.061624</td>\n",
              "      <td>0.451998</td>\n",
              "      <td>0.049873</td>\n",
              "      <td>23.501524</td>\n",
              "      <td>3.294505</td>\n",
              "      <td>17.036742</td>\n",
              "      <td>0.113268</td>\n",
              "      <td>1.997260</td>\n",
              "      <td>1.264204</td>\n",
              "    </tr>\n",
              "    <tr>\n",
              "      <th>min</th>\n",
              "      <td>1.000000</td>\n",
              "      <td>1.000000</td>\n",
              "      <td>2015.000000</td>\n",
              "      <td>1.000000</td>\n",
              "      <td>0.000000</td>\n",
              "      <td>1.000000</td>\n",
              "      <td>8.000000</td>\n",
              "      <td>0.000000</td>\n",
              "      <td>1.000000</td>\n",
              "      <td>1.000000</td>\n",
              "      <td>0.000000</td>\n",
              "    </tr>\n",
              "    <tr>\n",
              "      <th>25%</th>\n",
              "      <td>2510.750000</td>\n",
              "      <td>12.000000</td>\n",
              "      <td>2016.000000</td>\n",
              "      <td>1.000000</td>\n",
              "      <td>1.000000</td>\n",
              "      <td>1.000000</td>\n",
              "      <td>24.000000</td>\n",
              "      <td>0.000000</td>\n",
              "      <td>2.000000</td>\n",
              "      <td>2.000000</td>\n",
              "      <td>2.000000</td>\n",
              "    </tr>\n",
              "    <tr>\n",
              "      <th>50%</th>\n",
              "      <td>5020.500000</td>\n",
              "      <td>24.500000</td>\n",
              "      <td>2017.000000</td>\n",
              "      <td>2.000000</td>\n",
              "      <td>1.000000</td>\n",
              "      <td>3.000000</td>\n",
              "      <td>26.000000</td>\n",
              "      <td>22.000000</td>\n",
              "      <td>2.000000</td>\n",
              "      <td>2.000000</td>\n",
              "      <td>2.000000</td>\n",
              "    </tr>\n",
              "    <tr>\n",
              "      <th>75%</th>\n",
              "      <td>7530.250000</td>\n",
              "      <td>38.000000</td>\n",
              "      <td>2019.000000</td>\n",
              "      <td>2.000000</td>\n",
              "      <td>1.000000</td>\n",
              "      <td>3.000000</td>\n",
              "      <td>28.000000</td>\n",
              "      <td>32.000000</td>\n",
              "      <td>2.000000</td>\n",
              "      <td>2.000000</td>\n",
              "      <td>2.000000</td>\n",
              "    </tr>\n",
              "    <tr>\n",
              "      <th>max</th>\n",
              "      <td>10169.000000</td>\n",
              "      <td>53.000000</td>\n",
              "      <td>2022.000000</td>\n",
              "      <td>2.000000</td>\n",
              "      <td>2.000000</td>\n",
              "      <td>99.000000</td>\n",
              "      <td>33.000000</td>\n",
              "      <td>99.000000</td>\n",
              "      <td>2.000000</td>\n",
              "      <td>12.000000</td>\n",
              "      <td>7.000000</td>\n",
              "    </tr>\n",
              "  </tbody>\n",
              "</table>\n",
              "</div>\n",
              "      <button class=\"colab-df-convert\" onclick=\"convertToInteractive('df-7f2f782e-934e-49f9-8b90-87aec8f2543e')\"\n",
              "              title=\"Convert this dataframe to an interactive table.\"\n",
              "              style=\"display:none;\">\n",
              "        \n",
              "  <svg xmlns=\"http://www.w3.org/2000/svg\" height=\"24px\"viewBox=\"0 0 24 24\"\n",
              "       width=\"24px\">\n",
              "    <path d=\"M0 0h24v24H0V0z\" fill=\"none\"/>\n",
              "    <path d=\"M18.56 5.44l.94 2.06.94-2.06 2.06-.94-2.06-.94-.94-2.06-.94 2.06-2.06.94zm-11 1L8.5 8.5l.94-2.06 2.06-.94-2.06-.94L8.5 2.5l-.94 2.06-2.06.94zm10 10l.94 2.06.94-2.06 2.06-.94-2.06-.94-.94-2.06-.94 2.06-2.06.94z\"/><path d=\"M17.41 7.96l-1.37-1.37c-.4-.4-.92-.59-1.43-.59-.52 0-1.04.2-1.43.59L10.3 9.45l-7.72 7.72c-.78.78-.78 2.05 0 2.83L4 21.41c.39.39.9.59 1.41.59.51 0 1.02-.2 1.41-.59l7.78-7.78 2.81-2.81c.8-.78.8-2.07 0-2.86zM5.41 20L4 18.59l7.72-7.72 1.47 1.35L5.41 20z\"/>\n",
              "  </svg>\n",
              "      </button>\n",
              "      \n",
              "  <style>\n",
              "    .colab-df-container {\n",
              "      display:flex;\n",
              "      flex-wrap:wrap;\n",
              "      gap: 12px;\n",
              "    }\n",
              "\n",
              "    .colab-df-convert {\n",
              "      background-color: #E8F0FE;\n",
              "      border: none;\n",
              "      border-radius: 50%;\n",
              "      cursor: pointer;\n",
              "      display: none;\n",
              "      fill: #1967D2;\n",
              "      height: 32px;\n",
              "      padding: 0 0 0 0;\n",
              "      width: 32px;\n",
              "    }\n",
              "\n",
              "    .colab-df-convert:hover {\n",
              "      background-color: #E2EBFA;\n",
              "      box-shadow: 0px 1px 2px rgba(60, 64, 67, 0.3), 0px 1px 3px 1px rgba(60, 64, 67, 0.15);\n",
              "      fill: #174EA6;\n",
              "    }\n",
              "\n",
              "    [theme=dark] .colab-df-convert {\n",
              "      background-color: #3B4455;\n",
              "      fill: #D2E3FC;\n",
              "    }\n",
              "\n",
              "    [theme=dark] .colab-df-convert:hover {\n",
              "      background-color: #434B5C;\n",
              "      box-shadow: 0px 1px 3px 1px rgba(0, 0, 0, 0.15);\n",
              "      filter: drop-shadow(0px 1px 2px rgba(0, 0, 0, 0.3));\n",
              "      fill: #FFFFFF;\n",
              "    }\n",
              "  </style>\n",
              "\n",
              "      <script>\n",
              "        const buttonEl =\n",
              "          document.querySelector('#df-7f2f782e-934e-49f9-8b90-87aec8f2543e button.colab-df-convert');\n",
              "        buttonEl.style.display =\n",
              "          google.colab.kernel.accessAllowed ? 'block' : 'none';\n",
              "\n",
              "        async function convertToInteractive(key) {\n",
              "          const element = document.querySelector('#df-7f2f782e-934e-49f9-8b90-87aec8f2543e');\n",
              "          const dataTable =\n",
              "            await google.colab.kernel.invokeFunction('convertToInteractive',\n",
              "                                                     [key], {});\n",
              "          if (!dataTable) return;\n",
              "\n",
              "          const docLinkHtml = 'Like what you see? Visit the ' +\n",
              "            '<a target=\"_blank\" href=https://colab.research.google.com/notebooks/data_table.ipynb>data table notebook</a>'\n",
              "            + ' to learn more about interactive tables.';\n",
              "          element.innerHTML = '';\n",
              "          dataTable['output_type'] = 'display_data';\n",
              "          await google.colab.output.renderOutput(dataTable, element);\n",
              "          const docLink = document.createElement('div');\n",
              "          docLink.innerHTML = docLinkHtml;\n",
              "          element.appendChild(docLink);\n",
              "        }\n",
              "      </script>\n",
              "    </div>\n",
              "  </div>\n",
              "  "
            ]
          },
          "metadata": {},
          "execution_count": 5
        }
      ]
    },
    {
      "cell_type": "code",
      "source": [
        "# Existen columnas con null?\n",
        "df_parcial.isnull().sum()"
      ],
      "metadata": {
        "colab": {
          "base_uri": "https://localhost:8080/"
        },
        "id": "vnpG6yle_84i",
        "outputId": "63f55a80-1885-4f1e-ecd8-7c47d6d57bd0"
      },
      "execution_count": 6,
      "outputs": [
        {
          "output_type": "execute_result",
          "data": {
            "text/plain": [
              "Orden                          0\n",
              "Departamento                   0\n",
              "Municipio                      0\n",
              "semana                         0\n",
              "año                            0\n",
              "Grupo edad                     0\n",
              "Ciclo de vida                  0\n",
              "sexo_                          0\n",
              "area_                          0\n",
              "Barrio                         0\n",
              "Comuna                         0\n",
              "Tipo de Seguridad Social       0\n",
              "pac_hos_                       0\n",
              "con_fin_                       0\n",
              "version                        0\n",
              "naturaleza                    91\n",
              "def_naturaleza                91\n",
              "actividad                      0\n",
              "nom_actividad                  0\n",
              "edad_agre                   5169\n",
              "sexo_agre                      2\n",
              "parentezco_vict                0\n",
              "sust_vict                      0\n",
              "fec_hecho                     10\n",
              "hora_hecho                  8741\n",
              "escenario                    716\n",
              "zona_conf                   2296\n",
              "nom_eve                        0\n",
              "nom_upgd                       0\n",
              "ndep_resi                      0\n",
              "nmun_resi                      0\n",
              "MES                            0\n",
              "dtype: int64"
            ]
          },
          "metadata": {},
          "execution_count": 6
        }
      ]
    },
    {
      "cell_type": "code",
      "source": [
        "# Verificar tipos de datos\n",
        "df_parcial.info()"
      ],
      "metadata": {
        "id": "hDIdqotq1O1X",
        "colab": {
          "base_uri": "https://localhost:8080/"
        },
        "outputId": "7b40c47b-b8c2-4666-f2ef-44f78bb1165b"
      },
      "execution_count": 7,
      "outputs": [
        {
          "output_type": "stream",
          "name": "stdout",
          "text": [
            "<class 'pandas.core.frame.DataFrame'>\n",
            "RangeIndex: 20080 entries, 0 to 20079\n",
            "Data columns (total 32 columns):\n",
            " #   Column                    Non-Null Count  Dtype  \n",
            "---  ------                    --------------  -----  \n",
            " 0   Orden                     20080 non-null  int64  \n",
            " 1   Departamento              20080 non-null  object \n",
            " 2   Municipio                 20080 non-null  object \n",
            " 3   semana                    20080 non-null  int64  \n",
            " 4   año                       20080 non-null  int64  \n",
            " 5   Grupo edad                20080 non-null  object \n",
            " 6   Ciclo de vida             20080 non-null  object \n",
            " 7   sexo_                     20080 non-null  object \n",
            " 8   area_                     20080 non-null  object \n",
            " 9   Barrio                    20080 non-null  object \n",
            " 10  Comuna                    20080 non-null  object \n",
            " 11  Tipo de Seguridad Social  20080 non-null  object \n",
            " 12  pac_hos_                  20080 non-null  int64  \n",
            " 13  con_fin_                  20080 non-null  int64  \n",
            " 14  version                   20080 non-null  object \n",
            " 15  naturaleza                19989 non-null  float64\n",
            " 16  def_naturaleza            19989 non-null  object \n",
            " 17  actividad                 20080 non-null  int64  \n",
            " 18  nom_actividad             20080 non-null  object \n",
            " 19  edad_agre                 14911 non-null  float64\n",
            " 20  sexo_agre                 20078 non-null  object \n",
            " 21  parentezco_vict           20080 non-null  object \n",
            " 22  sust_vict                 20080 non-null  int64  \n",
            " 23  fec_hecho                 20070 non-null  object \n",
            " 24  hora_hecho                11339 non-null  object \n",
            " 25  escenario                 19364 non-null  float64\n",
            " 26  zona_conf                 17784 non-null  float64\n",
            " 27  nom_eve                   20080 non-null  object \n",
            " 28  nom_upgd                  20080 non-null  object \n",
            " 29  ndep_resi                 20080 non-null  object \n",
            " 30  nmun_resi                 20080 non-null  object \n",
            " 31  MES                       20080 non-null  object \n",
            "dtypes: float64(4), int64(7), object(21)\n",
            "memory usage: 4.9+ MB\n"
          ]
        }
      ]
    },
    {
      "cell_type": "code",
      "source": [
        "# Valores NaN\n",
        "df_parcial.isna().sum()"
      ],
      "metadata": {
        "colab": {
          "base_uri": "https://localhost:8080/"
        },
        "id": "Dc3C2QTCBo1X",
        "outputId": "316069c1-c9ab-4ff1-b2b6-23a4437fe49e"
      },
      "execution_count": 8,
      "outputs": [
        {
          "output_type": "execute_result",
          "data": {
            "text/plain": [
              "Orden                          0\n",
              "Departamento                   0\n",
              "Municipio                      0\n",
              "semana                         0\n",
              "año                            0\n",
              "Grupo edad                     0\n",
              "Ciclo de vida                  0\n",
              "sexo_                          0\n",
              "area_                          0\n",
              "Barrio                         0\n",
              "Comuna                         0\n",
              "Tipo de Seguridad Social       0\n",
              "pac_hos_                       0\n",
              "con_fin_                       0\n",
              "version                        0\n",
              "naturaleza                    91\n",
              "def_naturaleza                91\n",
              "actividad                      0\n",
              "nom_actividad                  0\n",
              "edad_agre                   5169\n",
              "sexo_agre                      2\n",
              "parentezco_vict                0\n",
              "sust_vict                      0\n",
              "fec_hecho                     10\n",
              "hora_hecho                  8741\n",
              "escenario                    716\n",
              "zona_conf                   2296\n",
              "nom_eve                        0\n",
              "nom_upgd                       0\n",
              "ndep_resi                      0\n",
              "nmun_resi                      0\n",
              "MES                            0\n",
              "dtype: int64"
            ]
          },
          "metadata": {},
          "execution_count": 8
        }
      ]
    },
    {
      "cell_type": "code",
      "source": [
        "df_parcial = df_parcial.dropna() # Eliminar los valores NaN\n",
        "df_parcial = df_parcial.reset_index(drop=True) # Se hace un reset \n",
        "df_parcial.isnull().sum() # Verificamos de nuevo"
      ],
      "metadata": {
        "colab": {
          "base_uri": "https://localhost:8080/"
        },
        "id": "zjt-b87SwXjv",
        "outputId": "f3d2747b-c9ee-450d-b1e1-45d7cab6d6bd"
      },
      "execution_count": 9,
      "outputs": [
        {
          "output_type": "execute_result",
          "data": {
            "text/plain": [
              "Orden                       0\n",
              "Departamento                0\n",
              "Municipio                   0\n",
              "semana                      0\n",
              "año                         0\n",
              "Grupo edad                  0\n",
              "Ciclo de vida               0\n",
              "sexo_                       0\n",
              "area_                       0\n",
              "Barrio                      0\n",
              "Comuna                      0\n",
              "Tipo de Seguridad Social    0\n",
              "pac_hos_                    0\n",
              "con_fin_                    0\n",
              "version                     0\n",
              "naturaleza                  0\n",
              "def_naturaleza              0\n",
              "actividad                   0\n",
              "nom_actividad               0\n",
              "edad_agre                   0\n",
              "sexo_agre                   0\n",
              "parentezco_vict             0\n",
              "sust_vict                   0\n",
              "fec_hecho                   0\n",
              "hora_hecho                  0\n",
              "escenario                   0\n",
              "zona_conf                   0\n",
              "nom_eve                     0\n",
              "nom_upgd                    0\n",
              "ndep_resi                   0\n",
              "nmun_resi                   0\n",
              "MES                         0\n",
              "dtype: int64"
            ]
          },
          "metadata": {},
          "execution_count": 9
        }
      ]
    },
    {
      "cell_type": "markdown",
      "source": [
        "##P2.1 Normalizando los datos (50%)"
      ],
      "metadata": {
        "id": "wCM8lZE-9ELZ"
      }
    },
    {
      "cell_type": "markdown",
      "source": [
        "###P2.1.1 Convertir datos object (Categoricos o Text) en Data Numerica/DateTime"
      ],
      "metadata": {
        "id": "3ppKikwV1bO0"
      }
    },
    {
      "cell_type": "code",
      "source": [
        "df_parcial.info()"
      ],
      "metadata": {
        "colab": {
          "base_uri": "https://localhost:8080/"
        },
        "id": "1UHWjrpyC6Ui",
        "outputId": "81b2a152-73a2-442a-d53a-3981541dd630"
      },
      "execution_count": 10,
      "outputs": [
        {
          "output_type": "stream",
          "name": "stdout",
          "text": [
            "<class 'pandas.core.frame.DataFrame'>\n",
            "RangeIndex: 11339 entries, 0 to 11338\n",
            "Data columns (total 32 columns):\n",
            " #   Column                    Non-Null Count  Dtype  \n",
            "---  ------                    --------------  -----  \n",
            " 0   Orden                     11339 non-null  int64  \n",
            " 1   Departamento              11339 non-null  object \n",
            " 2   Municipio                 11339 non-null  object \n",
            " 3   semana                    11339 non-null  int64  \n",
            " 4   año                       11339 non-null  int64  \n",
            " 5   Grupo edad                11339 non-null  object \n",
            " 6   Ciclo de vida             11339 non-null  object \n",
            " 7   sexo_                     11339 non-null  object \n",
            " 8   area_                     11339 non-null  object \n",
            " 9   Barrio                    11339 non-null  object \n",
            " 10  Comuna                    11339 non-null  object \n",
            " 11  Tipo de Seguridad Social  11339 non-null  object \n",
            " 12  pac_hos_                  11339 non-null  int64  \n",
            " 13  con_fin_                  11339 non-null  int64  \n",
            " 14  version                   11339 non-null  object \n",
            " 15  naturaleza                11339 non-null  float64\n",
            " 16  def_naturaleza            11339 non-null  object \n",
            " 17  actividad                 11339 non-null  int64  \n",
            " 18  nom_actividad             11339 non-null  object \n",
            " 19  edad_agre                 11339 non-null  float64\n",
            " 20  sexo_agre                 11339 non-null  object \n",
            " 21  parentezco_vict           11339 non-null  object \n",
            " 22  sust_vict                 11339 non-null  int64  \n",
            " 23  fec_hecho                 11339 non-null  object \n",
            " 24  hora_hecho                11339 non-null  object \n",
            " 25  escenario                 11339 non-null  float64\n",
            " 26  zona_conf                 11339 non-null  float64\n",
            " 27  nom_eve                   11339 non-null  object \n",
            " 28  nom_upgd                  11339 non-null  object \n",
            " 29  ndep_resi                 11339 non-null  object \n",
            " 30  nmun_resi                 11339 non-null  object \n",
            " 31  MES                       11339 non-null  object \n",
            "dtypes: float64(4), int64(7), object(21)\n",
            "memory usage: 2.8+ MB\n"
          ]
        }
      ]
    },
    {
      "cell_type": "code",
      "source": [
        "# Conversion de Datos \n",
        "# Departamento , Municipio, Grupo edad , Ciclo de vida  , sexo_, Barrio,\n",
        "# Comuna, Tipo de Seguridad Social, version, def_naturaleza, nom_actividad,\n",
        "# sexo_agre, parentezco_vict, fec_hecho, hora_hecho, nom_eve, nom_upgd, ndep_resi,\n",
        "# nmun_resi, MES\n",
        "print(f\" Valores de Departamento a reemplazar : {df_parcial['Departamento'].unique()} \\n\")\n",
        "print(f\" Valores de Municipio a reemplazar : {df_parcial['Municipio'].unique()} \\n\")\n",
        "print(f\" Valores de Grupo edad a reemplazar : {df_parcial['Grupo edad'].unique()} \\n\")\n",
        "print(f\" Valores de Ciclo de vida  a reemplazar : {df_parcial['Ciclo de vida'].unique()} \\n\")\n",
        "print(f\" Valores de sexo_ a reemplazar : {df_parcial['sexo_'].unique()} \\n\")\n",
        "print(f\" Valores de Barrio a reemplazar : {df_parcial['Barrio'].unique()} \\n\")\n",
        "print(f\" Valores de Comuna a reemplazar : {df_parcial['Comuna'].unique()} \\n\")\n",
        "print(f\" Valores de Tipo de Seguridad Social a reemplazar : {df_parcial['Tipo de Seguridad Social'].unique()} \\n\")\n",
        "print(f\" Valores de version a reemplazar : {df_parcial['version'].unique()} \\n\")\n",
        "print(f\" Valores de def_naturaleza a reemplazar : {df_parcial['def_naturaleza'].unique()} \\n\")\n",
        "print(f\" Valores de nom_actividad a reemplazar : {df_parcial['nom_actividad'].unique()} \\n\")\n",
        "print(f\" Valores de sexo_agre a reemplazar : {df_parcial['sexo_agre'].unique()} \\n\")\n",
        "print(f\" Valores de parentezco_vict  a reemplazar : {df_parcial['parentezco_vict'].unique()} \\n\")\n",
        "print(f\" Valores de fec_hecho a reemplazar : {df_parcial['fec_hecho'].unique()} \\n\")\n",
        "print(f\" Valores de hora_hecho a reemplazar : {df_parcial['hora_hecho'].unique()} \\n\")\n",
        "print(f\" Valores de nom_eve a reemplazar : {df_parcial['nom_eve'].unique()} \\n\")\n",
        "print(f\" Valores de nom_upgd a reemplazar : {df_parcial['nom_upgd'].unique()} \\n\")\n",
        "print(f\" Valores de ndep_resi a reemplazar : {df_parcial['ndep_resi'].unique()} \\n\")\n",
        "print(f\" Valores de nmun_resi a reemplazar : {df_parcial['nmun_resi'].unique()} \\n\")\n",
        "print(f\" Valores de MES a reemplazar : {df_parcial['MES'].unique()} \\n\")\n"
      ],
      "metadata": {
        "colab": {
          "base_uri": "https://localhost:8080/"
        },
        "id": "P_8fvBFrCuwf",
        "outputId": "3df78357-756f-4dc6-9ea6-7c62722c23a9"
      },
      "execution_count": 11,
      "outputs": [
        {
          "output_type": "stream",
          "name": "stdout",
          "text": [
            " Valores de Departamento a reemplazar : ['SANTANDER' 'NORTE SANTANDER' 'BOLIVAR' 'CAQUETA' 'ARAUCA'] \n",
            "\n",
            " Valores de Municipio a reemplazar : ['BUCARAMANGA' 'CUCUTA' 'ARENAL' '* CAQUETA. MUNICIPIO DESCONOCIDO'\n",
            " 'FLORIDABLANCA' 'RIONEGRO' 'BARRANCABERMEJA' 'TAME'] \n",
            "\n",
            " Valores de Grupo edad a reemplazar : ['12 a 17' '7  a 11' '18 a 28' '0 a 6' '29 a 59' '60 y mas'] \n",
            "\n",
            " Valores de Ciclo de vida  a reemplazar : ['Adolescencia' 'Infancia' 'Jovenes' 'Primera infancia' 'Adultez'\n",
            " 'Persona Mayor'] \n",
            "\n",
            " Valores de sexo_ a reemplazar : ['Masculino' 'Femenino'] \n",
            "\n",
            " Valores de Barrio a reemplazar : ['Transición' 'Betania' 'EL MIRADOR' 'María Paz' 'Colorados' 'Café Madrid'\n",
            " 'UNIVERSIDAD' 'Colseguros Norte' 'Villa Rosa' 'Claveriano' 'GIRARDOT'\n",
            " 'Puente Nariño' 'Campestre Norte (Getsemaní, los cerros, la Fortuna)'\n",
            " 'CABECERA DEL LLANO'\n",
            " 'Villas de San Ignacio (Sectores Bavaria I, II, Betania I, II, Ingeser)'\n",
            " 'COMUNEROS' 'Altos del Progreso' 'MIRAMAR' 'SIN INFORMACION'\n",
            " 'Villa Mercedes' 'KENNEDY' 'Cervunion' 'GAITAN' 'Olas Bajas'\n",
            " 'Villa del Nogal' 'Caminos de Paz I' 'PRIMERO DE MAYO' 'Kennedy' 'GIRON'\n",
            " 'Minuto de Dios' 'Alarcón' 'Las Hamacas' 'COLORADOS' 'Punta Betin'\n",
            " 'Olas II' 'Tejar Norte' 'MUTIS' 'Divino Niño I' 'GARCIA ROVIRA'\n",
            " 'REAL DE MINAS' 'CENTRO' 'PUNTA PARAISO' 'Olas Altas' 'El Pablon'\n",
            " 'Villa Alegría II' 'El Pablón' 'LOS PINOS' 'Villa Alegría I'\n",
            " 'San Valentín' 'EL TEJAR' 'Bosconia' 'GRANADA' 'SANTANDER' 'Miramar'\n",
            " 'MINUTO DE DIOS' 'ALTOS DEL KENNEDY' 'SAN VALENTIN' 'PIO XII'\n",
            " 'Los Angeles' 'Esperanza II' 'Bosque norte' 'ESPERANZA II' 'La Juventud'\n",
            " 'ANTONIA SANTOS CENTRO' 'Regadero Norte' 'Villa Maria I'\n",
            " 'Los Conquistadores' 'BOSQUE NORTE' 'EL PLAN' 'Esperanza I' 'MUTUALIDAD'\n",
            " 'ESPERANZA III' 'REGADEROS NORTE' 'MIRADOR NORTE' 'EL CINAL'\n",
            " 'SANTA HELENA' 'Esperanza III' 'Regaderos Norte' 'VILLA HELENA'\n",
            " 'LA JUVENTUD' 'NUEVO HORIZONTE DE LA MANO DE DIOS' 'TRANSICION I-V'\n",
            " 'SAN FRANCISCO' 'MEJORAS PUBLICAS' 'Jose maria cordoba' 'MARIA PAZ'\n",
            " 'ESPERANZA I' 'San Cristobal' 'Universidad' 'San Rafael'\n",
            " 'LA INDEPENDENCIA' 'Comuneros' 'San Francisco' 'LA independencia'\n",
            " 'BUCARAMANGA' 'QUEBRADA LA IGLESIA I' 'Modelo' 'Norte Bajo' 'Chapinero'\n",
            " 'Mutualidad' 'La Gran ladera' 'La Gloria' 'Santander' 'Girardot'\n",
            " '12 de Octubre' 'Napoles' 'Gaitán' 'La Feria' 'Nariño' 'Don Bosco'\n",
            " 'Zarabanda' 'Villas de Girardot' 'LA FERIA' 'La Joya' 'Campo Hermoso'\n",
            " 'Alfonso López' 'Camilo Torres' 'LA JOYA' 'La Esmeralda'\n",
            " 'jose antonio galan' 'Gallineral' 'Maria Auxiliadora' 'Quinta Estrella'\n",
            " 'CHORRERAS DE DON JUAN' 'LA CONCORDIA' 'La Victoria' 'Ricaurte'\n",
            " 'Candiles' 'San Miguel' 'La Salle' 'La Ceiba' 'La Concordia' 'GOMEZ NIÑO'\n",
            " 'RICAURTE' 'PRADOS DEL MUTIS' 'LA CEIBA' 'LA VICTORIA' 'Villa Sofia'\n",
            " 'Primero de mayo' 'ALVAREZ' 'Ciudadela Real de Minas' 'BOLIVAR'\n",
            " 'Bucaramanga' 'Juan XXIII' 'DANGOND' 'Pablo VI' 'España' 'San Gerardo'\n",
            " 'SAN GERARDO I' 'Canelos' 'Africa' 'Nueva Colombia' 'CORDONCILLO II'\n",
            " 'AFRICA' 'San Martin' 'Brisas del Paraíso' 'CALDAS' 'LA PEDREGOSA'\n",
            " 'DIAMANTE I' 'VILLA INES' 'SAN MARTIN' 'Villa Diamante' 'DIAMANTE II'\n",
            " 'Quebrada la Iglesia' 'La Libertad' 'Nueva Granada' 'GUAYACANES'\n",
            " 'Diamante I' 'Provenza' 'Granjas de Provenza' 'Cristal Alto'\n",
            " 'Cristal Bajo' 'Brisas de Provenza' 'CONDADO CAMPESTRE' 'Fontana'\n",
            " 'San Luis' 'Diamante II' 'CRISTAL ALTO' 'MALPASO' 'El Porvenir'\n",
            " 'JARDINES DE COAVICONSA' 'Manuela Beltrán I y II' 'El Rocio'\n",
            " 'Toledo Plata' 'MANUELA BELTRAN' 'Delicias' 'SANTA MARIA'\n",
            " 'CIUDAD VENECIA' 'Luz de Salvación I' 'LOS CONQUISTADORES'\n",
            " 'Condado de Gibraltar' 'EL PORVENIR' 'Balcones del Sur' 'EL ROCIO'\n",
            " 'Dangond' 'Viveros de Provenza' 'Ciudad Metropolitana' 'Ciudad Venecia'\n",
            " 'Balcones de Provenza Sector A' 'ANTIGUO CAMPESTRE' 'Villa Sara'\n",
            " 'PROVENZA' 'GRANJAS DE JULIO RINCON' 'SAN PEDRO CLAVER'\n",
            " 'Cabecera del Llano' 'MERCEDES' 'Los Cedros' 'Nuevo Sotomayor'\n",
            " 'Sotomayor' 'Bolarquí' 'La Floresta' 'La Aurora' 'San Alonso'\n",
            " 'Antonia Santos Centro' 'Galán' 'GALAN' 'Quinta Dania'\n",
            " 'GRANJAS DE PROVENZA' 'El Prado' 'Los Pinos' 'Mejoras Públicas'\n",
            " 'Morrorico' 'Albania' 'Miraflores' 'Buenos Aires' 'Buenavista'\n",
            " 'Vegas de Morrorico' 'El Diviso' 'Venado de oro' 'MIRAFLORES' 'Centro'\n",
            " 'García Rovira' 'RINCON DE LA PAZ' 'FATIMA' 'ALTOS DEL CACIQUE'\n",
            " 'SANTA BARBARA' 'Hacienda San Juan' 'El Tejar' 'Prados del Mutis'\n",
            " 'Monterredondo' 'Mutis' 'Estoraques I y II' 'ESTORAQUES' 'MONTERREDONDO'\n",
            " 'Manzanares' 'Rosa blanca' 'San Ignacio' 'San Pedro Bajo' 'MAGUEYES'\n",
            " 'Vijagual' 'Santa Rita' 'MORRORICO' 'Pedregal' 'La Malaña' 'LA MALAÑA'\n",
            " 'Retiro chiquito' '10 de mayo Santa Barbara' 'Los Cuadros' '13 de junio'\n",
            " 'Portal de los Angeles' 'MONSERRATE'\n",
            " 'Rincón de Paz (17 de enero y 12 de febrero)' 'Miramanga' 'Pantano II'\n",
            " 'Milagro de Dios' 'EL PABLON' 'QUEBRADA LA IGLESIA' 'TOLEDO PLATA'\n",
            " 'VEREDA COPELLA' 'CONDADO DE GIBRALTAR' 'Halcones' 'SAN CRISTOBAL'\n",
            " 'BUENOS AIRES' 'VEREDA LIMITES' 'EL BOSQUE' 'MIRADORES DEL CAMPO'\n",
            " 'VEREDA PACHO DIAZ' 'FLORIDABLANCA' 'NORTE BAJO' 'Balcones del Kennedy'\n",
            " 'VEREDA PIRIGUA' 'PALOMITAS' 'San Cristóbal' 'CHAPINERO' 'VILLA DIAMANTE'\n",
            " 'CANDILES' 'Gualilo alto' 'la trinidad' 'VILLA ALEGRIA II'\n",
            " 'VEREDA NUCURUCA' 'Quintadania' 'ALARCON' 'REDIL DEL COUNTRY' 'Lizcano I'\n",
            " 'Miradores del Kennedy' 'DELICIAS BAJAS' 'Paisajes del Norte'\n",
            " 'Lizcano II' 'LA AURORA' 'CAMPESTRE' 'CAFE MADRID' 'BALCONES DEL KENNEDY'\n",
            " 'Omaga II' 'LAS VILLAS' 'VILLA LINA' 'OMAGA II' 'BETANIA' 'Mirador Norte'\n",
            " 'ALTOS DEL PROGRESO' 'SAN MIGUEL' 'Villa Maria III' 'Cuyanita' 'OLAS II'\n",
            " 'VILLAS DE SAN IGNACIO' 'VERICUTE' 'Puerto Rico' 'BRISAS DEL MUTIS'\n",
            " '23 de junio' 'ARANZOQUE' 'La Inmaculada' 'NUEVO SOTOMAYOR'\n",
            " 'Real de Minas' 'SAN GERARDO' 'Cordoncillo I' 'JUAN XXIII'\n",
            " 'ANTIGUA COLOMBIA' 'CANELOS' 'España Real' 'Cordoncillo II'\n",
            " 'BOSQUES DEL CACIQUE' 'ALFONSO LOPEZ' 'Villa Real del Sur' 'La Pedregosa'\n",
            " 'Asturias' 'Antonia Santos Sur' 'FONTANA' 'Los Guaduales'\n",
            " 'Granjas de Julio Rincón' 'LOS ROBLES' 'Igsabelar' 'DELICIAS ALTAS'\n",
            " 'Villa Flor' 'SAN ALONSO' 'PAN DE AZUCAR' 'Conucos' 'Bolívar'\n",
            " 'JOSE ANTONIO GALAN' 'real de minas' 'San Jose' 'Limoncito'\n",
            " 'CAMPO HERMOSO' 'VENADO DE ORO' 'Lagos del Cacique' 'Punta Paraíso'\n",
            " 'San Expedito' 'Altos del Cacique' 'CHOCOA' 'LOS HEROES' 'Gualilo bajo'\n",
            " 'VIJAGUAL' 'SANTOS BAJOS' 'LOS CUADROS' 'Corregimiento 3'\n",
            " 'VEREDA CUESTA RICA' 'VEREDA EL BRILLANTE' 'VEREDA LA HORMIGA'\n",
            " 'VEREDA LAVADORES' 'VEREDA EL ROSARIO' 'AEREOS ANDINOS'\n",
            " 'VEREDA EL LOQUITO' 'Carlos Pizarro' 'Cañaveral' 'VISTA AZUL'\n",
            " '20 de julio' 'VEREDA VEGAS DE BETANIA' 'PEDREGAL' 'EL CARMEN'\n",
            " 'LA LIBERTAD' 'BRISAS DE RIO FRIO' 'BALCONCITOS' 'TERRAZAS' 'EL PRADO'\n",
            " 'VEREDA EL CARAJO' 'SOCORRO' 'TENZA' 'ANDALUCIA' 'VEREDA LA SUFRADA'\n",
            " 'OLAS BAJAS' 'LA GRAN LADERA' 'PIEDECUESTA' 'EL REPOSO'\n",
            " 'Brisas del Mutis' 'San Pedro Claver' 'LOS GUAYACANES' 'Nueva Fontana'\n",
            " 'CRISTAL BAJO' 'CORDONCILLO I' 'Santa María' 'CANDADO' 'Malpaso' 'LAGOS'\n",
            " 'Bosques del Cacique' 'Terrazas' 'QUINTADANIA' 'LOS ALPES'\n",
            " 'QUINTA ESTRELLA' 'PRADOS DE FATIMA' 'Balconcitos' 'CONUCOS'\n",
            " 'Rincon de la Paz' 'VEREDA SAN RAFAEL' 'LA TRINIDAD' 'PUERTO VARAS'\n",
            " 'LOS ANGELES' 'MANZANARES' 'PORTAL DE LOS ANGELES' 'LA GLORIA'\n",
            " 'BRISAS DE PROVENZA' 'LA ESTRELLA'] \n",
            "\n",
            " Valores de Comuna a reemplazar : ['02. NORORIENTAL' '01. NORTE' 'GIRON' '03. SAN FRANCISCO'\n",
            " '04. OCCIDENTAL' '12. CABECERA DEL LLANO' 'SIN INFORMACION' '11. SUR'\n",
            " '05. GARCIA ROVIRA' '17. MUTIS' '15. CENTRO' '07. LA CIUDADELA'\n",
            " 'CORREG. 1' '13. ORIENTAL' '16. LAGOS DEL CACIQUE'\n",
            " '8 LA CUMBRE - EL CARMEN' '4 CALDAS' '7 VILLABEL - SANTA ANA'\n",
            " '08. SUR OCCIDENTE' '06. LA CONCORDIA' 'FLORIDABLANCA' '08. SUROCCIDENTE'\n",
            " '09. LA PEDREGOSA' '24. CALDAS - REPOSO' '10. PROVENZA'\n",
            " '5 BOSQUE- MOLINOS' '14. MORRORICO' 'CORREG. 2' 'CORREG. 3'\n",
            " 'VEREDA COPELLA' 'VEREDA LIMITES' 'VEREDA PACHO DIAZ' 'VEREDA PIRIGUA'\n",
            " 'VEREDA NUCURUCA' '2 CAÑAVERAL' '30. CORREG' '22. CAÑAVERAL -VERSALLES'\n",
            " 'CHOCOA' 'SANTOS BAJOS' 'VEREDA CUESTA RICA' 'VEREDA EL BRILLANTE'\n",
            " 'VEREDA LA HORMIGA' 'VEREDA LAVADORES' 'VEREDA EL ROSARIO'\n",
            " 'AEREOS ANDINOS' 'VEREDA EL LOQUITO' 'VEREDA VEGAS DE BETANIA'\n",
            " 'BRISAS DE RIO FRIO' 'VEREDA EL CARAJO' 'SOCORRO' 'VEREDA LA SUFRADA'\n",
            " 'PIEDECUESTA' '26. LAGOS - BELLAVISTA' '1 FLORIDA CASCO ANTIGUO'] \n",
            "\n",
            " Valores de Tipo de Seguridad Social a reemplazar : ['No asegurado' 'Subsidiado' 'Contributivo' 'Excepción' 'Especial'\n",
            " 'Indeterminado'] \n",
            "\n",
            " Valores de version a reemplazar : ['version' 'SIVIGILA - 2015 - 15.1.3' 'SIVIGILA - 2015 - 15.1.1'\n",
            " 'SIVIGILA - 2015 - 15.1.2' 'SIVIGILA - 2015 - 15.1.0'\n",
            " 'SIVIGILA - 2014 - 14.2.0' 'SIVIGILA - 2016 - 16.1.2'\n",
            " 'SIVIGILA - 2017 -17.1.2' 'SIVIGILA - 2016 -16.1.2$0$0.2'\n",
            " 'SIVIGILA - 2012 - VERSIÓN: 2.0' 'SIVIGILA - 2016 - 16.1.3'\n",
            " 'SIVIGILA - 2016 -16.1.3' 'SIVIGILA - 2016 -16.1.2$0$0.1'\n",
            " 'SIVIGILA - 2017 -17.1.0' 'SIVIGILA - 2016 - 16.1.1'\n",
            " 'SIVIGILA - 2017 - 17.1.0' 'SIVIGILA - 2017 - 17.1.1'\n",
            " 'SIVIGILA - 2017 -17.1.1' 'SIVIGILA - 2017 -17.1.2$0$2.1'\n",
            " 'SIVIGILA - 2017 - 17.1.3' 'SIVIGILA - 2017 -17.1.3$0$0.0'\n",
            " 'SIVIGILA - 2017 - 17.1.2' 'SIVIGILA - 2017 -17.1.2$0$1.0'\n",
            " 'SIVIGILA - 2017 -17.1.2$0$1.1' 'SIVIGILA - 2017 -17.1.3$0$1.0'\n",
            " 'SIVIGILA - 2017 -17.1.2$0$2.0' 'SIVIGILA - 2018 -18.1.4'\n",
            " 'SIVIGILA - 2017 -17.1.3$0$2.0' 'SIVIGILA - 2018 -18.1.5'\n",
            " 'SIVIGILA - 2018 - 18.1.4' 'SIVIGILA - 2018 - 18.1.3'\n",
            " 'SIVIGILA - 2018 -18.1.3' 'SIVIGILA - 2018 - 18.1.5'] \n",
            "\n",
            " Valores de def_naturaleza a reemplazar : ['Negligencia y abandono' 'Violencia fisica' 'Abuso sexual'\n",
            " 'Violencia psicologica' 'Acoso sexual' 'Violacion'\n",
            " 'Actos sexuales violencia' 'Sin información' 'Otros actos sexuales'] \n",
            "\n",
            " Valores de nom_actividad a reemplazar : ['Otro' 'Estudiante' 'Reciclador' 'Trabajadora domestica'\n",
            " 'Servidor publico' 'Maestro' 'Fuerza publica' 'Ninguna'\n",
            " 'Persona dedicada al cuidado del hogar' 'Líder cívico' 'Sin información'\n",
            " 'Persona en situación de prostitución' 'ERROR: #N/A'\n",
            " 'Persona que cuida a otros'] \n",
            "\n",
            " Valores de sexo_agre a reemplazar : ['M' 'F' 'SD'] \n",
            "\n",
            " Valores de parentezco_vict  a reemplazar : ['Padre' 'Otros' 'Madre' 'Esposo' 'Excompañero permanente' 'Hermano (a)'\n",
            " 'Novio(a)' 'Primo (a)' 'Compañero permanente' 'Tío (a)' 'Cuñado (a)'\n",
            " 'Padrasto' 'Hijo' 'Abuelo (a)' 'Ex - novio' 'Ex esposo(a)' 'Suegro (a)'\n",
            " 'Madrasta' 'Encargado (a) del NNA/Adulto mayor' 'Ex - amante' 'Pareja'\n",
            " 'Ex pareja' 'Amante' 'Familiar' 'Ninguno'] \n",
            "\n",
            " Valores de fec_hecho a reemplazar : ['2015-06-12T00:00:00.000' '2015-02-04T00:00:00.000'\n",
            " '2015-07-21T00:00:00.000' ... '2018-02-28T00:00:00.000'\n",
            " '2018-02-26T00:00:00.000' '2018-02-25T00:00:00.000'] \n",
            "\n",
            " Valores de hora_hecho a reemplazar : ['06:30:00 a.\\xa0m.' '10:00:00 a.\\xa0m.' '08:00:00 a.\\xa0m.' ... '21:55'\n",
            " '18:06' '16:20'] \n",
            "\n",
            " Valores de nom_eve a reemplazar : ['VIGILANCIA EN SALUD PÚBLICA DE LAS VIOLENCIAS DE GÉNERO'\n",
            " 'VIGILANCIA EN SALUD PÚBLICA DE LA VIOLENCIA DE GÉNERO E INTRAFAMILIAR'] \n",
            "\n",
            " Valores de nom_upgd a reemplazar : ['SERVICLINICOS DROMEDICA SA' 'HOSPITAL LOCAL DEL NORTE'\n",
            " 'HOSPITAL UNIVERSITARIO DE SANTANDER' 'CENTRO DE SALUD CAFE MADRID'\n",
            " 'IPS COOMULTRASAN SEDE I'\n",
            " 'LOS COMUNEROS HOSPITAL UNIVERSITARIO DE BUCARAMANG'\n",
            " 'CENTRO DE SALUD COLORADOS' 'CLINICA CHICAMOCHA SA'\n",
            " 'CLINICA MATERNO INFANTIL SAN LUIS SA' 'CENTRO DE SALUD KENNEDY'\n",
            " 'CENTRO DE SALUD IPC' 'BATALLÓN DE ASPC NO5 HOSPITAL MILITAR BUCARAM'\n",
            " 'UIMIST' 'CENTRO DE SALUD JOYA' 'CENTRO DE SALUD VILLA ROSA'\n",
            " 'ESE HOSPITAL INTEGRADO SAN JUAN DE DIOS DE LEBR'\n",
            " 'UNIDAD ESPECIALIZADA EN ATENCION TERAPEUTICA LTDA'\n",
            " 'CENTRO DE SALUD GIRARDOT' 'SALUD TOTAL SA CABECERA'\n",
            " 'CORPORACION IPS SALUDCOOP BUCARAMANGA'\n",
            " 'UNIDAD INTEGRAL EN SALUD BUCARAMANGA' 'SALUD TOTAL EPS UUBC'\n",
            " 'CLINICA GIRON ESE' 'FUNDACION OFTALMOLOGICA DE SDER FOSCAL'\n",
            " 'IPS PUNTO DE SALUD SA BUCARAMANGA' 'FRESENIUS MEDICAL CARE'\n",
            " 'CENTRO DE SALUD ROSARIO' 'SALUD TOTAL SA GONZALEZ VALENCIA'\n",
            " 'ESE CLÍNICA GUANE Y SU RED INTERAL DE SALUD' 'CENTRO DE SALUD MORRORICO'\n",
            " 'CENTRO DE SALUD BUCARAMANGA' 'CORPORACION IPS SALUDCOOP CAÑAVERAL'\n",
            " 'CENTRO DE SALUD LA CUMBRE'\n",
            " 'FUNDACION OFTALMOLOGICA DE SANTANDER- SEDE BUCARAM' 'CAFI COOMULTRASAN'\n",
            " 'FUNDACION AVANZAR FOS' 'MOVILES  RURALES'\n",
            " 'UNIDAD MEDICA QUIRURGICA COOMULTRASAN'\n",
            " 'UNIDAD DE ATENCIÓN PRIMARIA BUCARAMANGA'\n",
            " 'SALUD TOTAL EPS-S SA FLORIDABLANCA' 'CENTRO DE SALUD SAN RAFAEL'\n",
            " 'CENTRO DE SALUD COMUNEROS' 'IPS COOMULTRASAN SEDE CRA 35A'\n",
            " 'CENTRO MEDICO DANIEL PERALTA SA CLINICA BUCARAMNAG'\n",
            " 'CENTRO DE SALUD GAITAN' 'UPREC UNIDAD DE PREVENCION CLINICA BUCARAMANGA'\n",
            " 'CLINICA SAN PABLO SA' 'CENTRO DE SALUD CAMPO HERMOSO'\n",
            " 'CLINICA URGENCIAS BUCARAMANGA SAS' 'CLINICA REGIONAL DEL ORIENTE'\n",
            " 'HOSPITAL LOCALYOPAL' 'ESE HOSPITAL SAN JUAN DE DIOS DE FLORIDABLANCA'\n",
            " 'SANATORIO DE CONTRATACION ESE' 'CENTRO DE SALUD VILLABEL'\n",
            " 'CENTRO DE SALUD MUTIS' 'IPS COOMULTRASAN SEDE CAÑAVERAL'\n",
            " 'IPS SURA COOMULTRASAN CAÑAVERAL' 'FUNDACION FOSUNAB'\n",
            " 'SERVICIOS INTEGRALES DE GESTION MEDICA ASISTENCIAL'\n",
            " 'CENTRO DE ATENCION Y DIAGNOSTICO DE ENFERMEDADES I'\n",
            " 'HOSPITAL REGIONAL MAGDALENA MEDIO' 'CENTRO DE SALUD PABLO VI'\n",
            " 'CENTRO DE SALUD TOLEDO PLATA' 'CENTRO DE SALUD CRISTAL ALTO'\n",
            " 'FUNDACION AVANZAR FOS SEDE FLORIDABLANCA'\n",
            " 'GESTIONAR BIENESTAR CAÑAVERAL' 'EMPRESA SOCIAL DEL ESTADO SAN ANTONIO'\n",
            " 'CENTRO DE SALUD LIBERTAD' 'ESE HOSPITAL INTEGRADO SAN JUAN DE CIMITARRA'\n",
            " 'PUNTO VERDE COOMEVA' 'CORPORACION IPS SALUDCOOP SANTANDER'\n",
            " 'ALIANZA DIAGNOSTICA SEDE CABECERA' 'IPS COOMULTRASAN SEDE VII'\n",
            " 'UNIVERSIDAD INDUSTRIAL DE SANTANDER- UIS' 'CENTRO DE SALUD REGADEROS'\n",
            " 'SEDE GONZALEZ VALENCIA' 'CENTRO DE SALUD CONCORDIA'\n",
            " 'IPS COMFENALCO SANTANDER'\n",
            " 'CLÍNICA CHICAMOCHA SA SEDE AMBULATORIA CONUCOS'\n",
            " 'CENTRO MEDICO CLINICA CHICAMOCHA SA' 'ASOCIACIÓN PROFAMILIA'\n",
            " 'SALUD TOTAL EPS-S SA CAÑAVERAL'\n",
            " 'ESE HOSPITAL EL CARMEN SEDE SAN VICENTE DE CHUCURI'\n",
            " 'ESTUDIOS E INVERSIONES MEDICAS SA ESIMED SA CENTRO'\n",
            " 'ATENCION BASICA BUCARAMANGA' 'UNIDAD DE ATENCION PRIMARIA BUCARAMANGA'\n",
            " 'INSTITUTO DEL SISTEMA NERVIOSO DEL ORIENTE SA'\n",
            " 'VIDAMEDICAL BUCARAMANGA IPS SAS' 'CENTRO DE SALUD SANTANDER'\n",
            " 'INSTITUTO DEL CORAZON DE BUCARAMANGA - CHICAMOCHA'\n",
            " 'CLINISANITAS EPS  SANITAS BUCARAMANGA'\n",
            " 'CENTRAL DE URGENCIAS LOUIS PASTEUR'\n",
            " 'CAJA SANTANDEREANA DE SUBSIDIO FAMILIAR CAJASAN' 'RETROALIMENTACIÓN'\n",
            " 'CLINICA SANTA CRUZ DE LA LOMA SA' 'FUNDACION CARDIOVASCULAR DE COLOMBIA'\n",
            " 'INSTITUCIÓN PRESTADORA DE SERVICIOS DE SALUD'\n",
            " 'EMPRESA SOCIAL DEL ESTADO HOSPITAL LA CANDELARIA'\n",
            " 'ESE HOSPITAL LOCAL DE PIEDECUESTA'\n",
            " 'SERVICIO PREVENTIVO DE BUCARAMANGA SPABSPREB'\n",
            " 'CLINICA GESTIONAR BIENESTAR' 'HOSPITAL INTERNACIONAL DE COLOMBIA'\n",
            " 'UNIDAD INTEGRAL EN SALUD' 'SALUD SOGAMOSO ESE'\n",
            " 'EMPRESA SOCIAL DEL ESTADO HOSPITAL SAN RAFAEL TUNJ'\n",
            " 'ESE HOSPITAL LOCAL MUNICIPIO LOS PATIOS'\n",
            " 'EMPRESA SOCIAL DEL ESTADO HOSPITAL UNIVERSITARIO D'\n",
            " 'ASISTENCIA MEDICA SAS SERVICIO DE AMBULANCIA PREPA'\n",
            " 'CENTRO DE ESPECIALISTAS MEDICOS AXA COLPATRIA'] \n",
            "\n",
            " Valores de ndep_resi a reemplazar : ['SANTANDER' 'CASANARE' 'EXTERIOR' 'HUILA' 'AMAZONAS' 'CESAR'\n",
            " 'NORTE SANTANDER' 'TOLIMA' 'ANTIOQUIA' 'BOLIVAR' 'BOYACA' 'CUNDINAMARCA'] \n",
            "\n",
            " Valores de nmun_resi a reemplazar : ['BUCARAMANGA' 'GIRON' '* SANTANDER. MUNICIPIO DESCONOCIDO'\n",
            " 'FLORIDABLANCA' 'RIONEGRO' 'PIEDECUESTA' 'YOPAL' 'CONTRATACION'\n",
            " '* EXTERIOR. PAÍS DESCONOCIDO - SIN ESPECIFICACIÓN ADICIONAL DE LUGAR'\n",
            " 'SABANA DE TORRES' 'BARRANCABERMEJA' 'EL PLAYON' 'SAN VICENTE DE CHUCURI'\n",
            " 'COLOMBIA' '* AMAZONAS. MUNICIPIO DESCONOCIDO' 'AGUACHICA' 'CUCUTA'\n",
            " 'MELGAR' 'MEDELLIN' 'COLOMBIA - SIN ESPECIFICACIÓN ADICIONAL DE LUGAR'\n",
            " 'LEBRIJA' 'LOS SANTOS' 'CANTAGALLO' 'SOGAMOSO'\n",
            " '* NORTE DE SANTANDER. MUNICIPIO DESCONOCIDO' 'DUITAMA' 'SOACHA' 'TUNJA'\n",
            " 'LOS PATIOS'] \n",
            "\n",
            " Valores de MES a reemplazar : ['06. Junio' '02. Febrero' '07. Julio' '04. Abril' '11. Noviembre'\n",
            " '08. Agosto' '09. Septiembre' '01. Enero' '03. Marzo' '10. Octubre'\n",
            " '12. Diciembre' '05. Mayo'] \n",
            "\n"
          ]
        }
      ]
    },
    {
      "cell_type": "code",
      "source": [
        "# Eliminar columnas que no queremos para analizar\n"
      ],
      "metadata": {
        "id": "lQC_wN8DHttG"
      },
      "execution_count": 16,
      "outputs": []
    },
    {
      "cell_type": "code",
      "source": [
        ""
      ],
      "metadata": {
        "id": "qcvb2DSdpVoB"
      },
      "execution_count": 13,
      "outputs": []
    },
    {
      "cell_type": "markdown",
      "source": [
        "###P2.1.2 normalizar todos los datos numericos entre [0, 1]."
      ],
      "metadata": {
        "id": "hdmGSXVH9dda"
      }
    },
    {
      "cell_type": "code",
      "source": [
        "min_max_scaler = preprocessing.MinMaxScaler() \n",
        "df_parcial = min_max_scaler.fit_transform(df_parcial)\n",
        "df_parcial = pd.DataFrame(df_parcial) # Hay que convertir a DF el resultado"
      ],
      "metadata": {
        "id": "O5hiWtUV9jtB",
        "colab": {
          "base_uri": "https://localhost:8080/",
          "height": 346
        },
        "outputId": "0aa9f670-1623-4cbd-eb6a-19653c4634fa"
      },
      "execution_count": 17,
      "outputs": [
        {
          "output_type": "error",
          "ename": "ValueError",
          "evalue": "ignored",
          "traceback": [
            "\u001b[0;31m---------------------------------------------------------------------------\u001b[0m",
            "\u001b[0;31mValueError\u001b[0m                                Traceback (most recent call last)",
            "\u001b[0;32m<ipython-input-17-9eed5e418d19>\u001b[0m in \u001b[0;36m<module>\u001b[0;34m()\u001b[0m\n\u001b[1;32m      1\u001b[0m \u001b[0mmin_max_scaler\u001b[0m \u001b[0;34m=\u001b[0m \u001b[0mpreprocessing\u001b[0m\u001b[0;34m.\u001b[0m\u001b[0mMinMaxScaler\u001b[0m\u001b[0;34m(\u001b[0m\u001b[0;34m)\u001b[0m\u001b[0;34m\u001b[0m\u001b[0;34m\u001b[0m\u001b[0m\n\u001b[0;32m----> 2\u001b[0;31m \u001b[0mdf_parcial\u001b[0m \u001b[0;34m=\u001b[0m \u001b[0mmin_max_scaler\u001b[0m\u001b[0;34m.\u001b[0m\u001b[0mfit_transform\u001b[0m\u001b[0;34m(\u001b[0m\u001b[0mdf_parcial\u001b[0m\u001b[0;34m)\u001b[0m\u001b[0;34m\u001b[0m\u001b[0;34m\u001b[0m\u001b[0m\n\u001b[0m\u001b[1;32m      3\u001b[0m \u001b[0mdf_parcial\u001b[0m \u001b[0;34m=\u001b[0m \u001b[0mpd\u001b[0m\u001b[0;34m.\u001b[0m\u001b[0mDataFrame\u001b[0m\u001b[0;34m(\u001b[0m\u001b[0mdf_parcial\u001b[0m\u001b[0;34m)\u001b[0m \u001b[0;31m# Hay que convertir a DF el resultado\u001b[0m\u001b[0;34m\u001b[0m\u001b[0;34m\u001b[0m\u001b[0m\n",
            "\u001b[0;32m/usr/local/lib/python3.7/dist-packages/sklearn/base.py\u001b[0m in \u001b[0;36mfit_transform\u001b[0;34m(self, X, y, **fit_params)\u001b[0m\n\u001b[1;32m    850\u001b[0m         \u001b[0;32mif\u001b[0m \u001b[0my\u001b[0m \u001b[0;32mis\u001b[0m \u001b[0;32mNone\u001b[0m\u001b[0;34m:\u001b[0m\u001b[0;34m\u001b[0m\u001b[0;34m\u001b[0m\u001b[0m\n\u001b[1;32m    851\u001b[0m             \u001b[0;31m# fit method of arity 1 (unsupervised transformation)\u001b[0m\u001b[0;34m\u001b[0m\u001b[0;34m\u001b[0m\u001b[0;34m\u001b[0m\u001b[0m\n\u001b[0;32m--> 852\u001b[0;31m             \u001b[0;32mreturn\u001b[0m \u001b[0mself\u001b[0m\u001b[0;34m.\u001b[0m\u001b[0mfit\u001b[0m\u001b[0;34m(\u001b[0m\u001b[0mX\u001b[0m\u001b[0;34m,\u001b[0m \u001b[0;34m**\u001b[0m\u001b[0mfit_params\u001b[0m\u001b[0;34m)\u001b[0m\u001b[0;34m.\u001b[0m\u001b[0mtransform\u001b[0m\u001b[0;34m(\u001b[0m\u001b[0mX\u001b[0m\u001b[0;34m)\u001b[0m\u001b[0;34m\u001b[0m\u001b[0;34m\u001b[0m\u001b[0m\n\u001b[0m\u001b[1;32m    853\u001b[0m         \u001b[0;32melse\u001b[0m\u001b[0;34m:\u001b[0m\u001b[0;34m\u001b[0m\u001b[0;34m\u001b[0m\u001b[0m\n\u001b[1;32m    854\u001b[0m             \u001b[0;31m# fit method of arity 2 (supervised transformation)\u001b[0m\u001b[0;34m\u001b[0m\u001b[0;34m\u001b[0m\u001b[0;34m\u001b[0m\u001b[0m\n",
            "\u001b[0;32m/usr/local/lib/python3.7/dist-packages/sklearn/preprocessing/_data.py\u001b[0m in \u001b[0;36mfit\u001b[0;34m(self, X, y)\u001b[0m\n\u001b[1;32m    414\u001b[0m         \u001b[0;31m# Reset internal state before fitting\u001b[0m\u001b[0;34m\u001b[0m\u001b[0;34m\u001b[0m\u001b[0;34m\u001b[0m\u001b[0m\n\u001b[1;32m    415\u001b[0m         \u001b[0mself\u001b[0m\u001b[0;34m.\u001b[0m\u001b[0m_reset\u001b[0m\u001b[0;34m(\u001b[0m\u001b[0;34m)\u001b[0m\u001b[0;34m\u001b[0m\u001b[0;34m\u001b[0m\u001b[0m\n\u001b[0;32m--> 416\u001b[0;31m         \u001b[0;32mreturn\u001b[0m \u001b[0mself\u001b[0m\u001b[0;34m.\u001b[0m\u001b[0mpartial_fit\u001b[0m\u001b[0;34m(\u001b[0m\u001b[0mX\u001b[0m\u001b[0;34m,\u001b[0m \u001b[0my\u001b[0m\u001b[0;34m)\u001b[0m\u001b[0;34m\u001b[0m\u001b[0;34m\u001b[0m\u001b[0m\n\u001b[0m\u001b[1;32m    417\u001b[0m \u001b[0;34m\u001b[0m\u001b[0m\n\u001b[1;32m    418\u001b[0m     \u001b[0;32mdef\u001b[0m \u001b[0mpartial_fit\u001b[0m\u001b[0;34m(\u001b[0m\u001b[0mself\u001b[0m\u001b[0;34m,\u001b[0m \u001b[0mX\u001b[0m\u001b[0;34m,\u001b[0m \u001b[0my\u001b[0m\u001b[0;34m=\u001b[0m\u001b[0;32mNone\u001b[0m\u001b[0;34m)\u001b[0m\u001b[0;34m:\u001b[0m\u001b[0;34m\u001b[0m\u001b[0;34m\u001b[0m\u001b[0m\n",
            "\u001b[0;32m/usr/local/lib/python3.7/dist-packages/sklearn/preprocessing/_data.py\u001b[0m in \u001b[0;36mpartial_fit\u001b[0;34m(self, X, y)\u001b[0m\n\u001b[1;32m    456\u001b[0m             \u001b[0mestimator\u001b[0m\u001b[0;34m=\u001b[0m\u001b[0mself\u001b[0m\u001b[0;34m,\u001b[0m\u001b[0;34m\u001b[0m\u001b[0;34m\u001b[0m\u001b[0m\n\u001b[1;32m    457\u001b[0m             \u001b[0mdtype\u001b[0m\u001b[0;34m=\u001b[0m\u001b[0mFLOAT_DTYPES\u001b[0m\u001b[0;34m,\u001b[0m\u001b[0;34m\u001b[0m\u001b[0;34m\u001b[0m\u001b[0m\n\u001b[0;32m--> 458\u001b[0;31m             \u001b[0mforce_all_finite\u001b[0m\u001b[0;34m=\u001b[0m\u001b[0;34m\"allow-nan\"\u001b[0m\u001b[0;34m,\u001b[0m\u001b[0;34m\u001b[0m\u001b[0;34m\u001b[0m\u001b[0m\n\u001b[0m\u001b[1;32m    459\u001b[0m         )\n\u001b[1;32m    460\u001b[0m \u001b[0;34m\u001b[0m\u001b[0m\n",
            "\u001b[0;32m/usr/local/lib/python3.7/dist-packages/sklearn/base.py\u001b[0m in \u001b[0;36m_validate_data\u001b[0;34m(self, X, y, reset, validate_separately, **check_params)\u001b[0m\n\u001b[1;32m    564\u001b[0m             \u001b[0;32mraise\u001b[0m \u001b[0mValueError\u001b[0m\u001b[0;34m(\u001b[0m\u001b[0;34m\"Validation should be done on X, y or both.\"\u001b[0m\u001b[0;34m)\u001b[0m\u001b[0;34m\u001b[0m\u001b[0;34m\u001b[0m\u001b[0m\n\u001b[1;32m    565\u001b[0m         \u001b[0;32melif\u001b[0m \u001b[0;32mnot\u001b[0m \u001b[0mno_val_X\u001b[0m \u001b[0;32mand\u001b[0m \u001b[0mno_val_y\u001b[0m\u001b[0;34m:\u001b[0m\u001b[0;34m\u001b[0m\u001b[0;34m\u001b[0m\u001b[0m\n\u001b[0;32m--> 566\u001b[0;31m             \u001b[0mX\u001b[0m \u001b[0;34m=\u001b[0m \u001b[0mcheck_array\u001b[0m\u001b[0;34m(\u001b[0m\u001b[0mX\u001b[0m\u001b[0;34m,\u001b[0m \u001b[0;34m**\u001b[0m\u001b[0mcheck_params\u001b[0m\u001b[0;34m)\u001b[0m\u001b[0;34m\u001b[0m\u001b[0;34m\u001b[0m\u001b[0m\n\u001b[0m\u001b[1;32m    567\u001b[0m             \u001b[0mout\u001b[0m \u001b[0;34m=\u001b[0m \u001b[0mX\u001b[0m\u001b[0;34m\u001b[0m\u001b[0;34m\u001b[0m\u001b[0m\n\u001b[1;32m    568\u001b[0m         \u001b[0;32melif\u001b[0m \u001b[0mno_val_X\u001b[0m \u001b[0;32mand\u001b[0m \u001b[0;32mnot\u001b[0m \u001b[0mno_val_y\u001b[0m\u001b[0;34m:\u001b[0m\u001b[0;34m\u001b[0m\u001b[0;34m\u001b[0m\u001b[0m\n",
            "\u001b[0;32m/usr/local/lib/python3.7/dist-packages/sklearn/utils/validation.py\u001b[0m in \u001b[0;36mcheck_array\u001b[0;34m(array, accept_sparse, accept_large_sparse, dtype, order, copy, force_all_finite, ensure_2d, allow_nd, ensure_min_samples, ensure_min_features, estimator)\u001b[0m\n\u001b[1;32m    744\u001b[0m                     \u001b[0marray\u001b[0m \u001b[0;34m=\u001b[0m \u001b[0marray\u001b[0m\u001b[0;34m.\u001b[0m\u001b[0mastype\u001b[0m\u001b[0;34m(\u001b[0m\u001b[0mdtype\u001b[0m\u001b[0;34m,\u001b[0m \u001b[0mcasting\u001b[0m\u001b[0;34m=\u001b[0m\u001b[0;34m\"unsafe\"\u001b[0m\u001b[0;34m,\u001b[0m \u001b[0mcopy\u001b[0m\u001b[0;34m=\u001b[0m\u001b[0;32mFalse\u001b[0m\u001b[0;34m)\u001b[0m\u001b[0;34m\u001b[0m\u001b[0;34m\u001b[0m\u001b[0m\n\u001b[1;32m    745\u001b[0m                 \u001b[0;32melse\u001b[0m\u001b[0;34m:\u001b[0m\u001b[0;34m\u001b[0m\u001b[0;34m\u001b[0m\u001b[0m\n\u001b[0;32m--> 746\u001b[0;31m                     \u001b[0marray\u001b[0m \u001b[0;34m=\u001b[0m \u001b[0mnp\u001b[0m\u001b[0;34m.\u001b[0m\u001b[0masarray\u001b[0m\u001b[0;34m(\u001b[0m\u001b[0marray\u001b[0m\u001b[0;34m,\u001b[0m \u001b[0morder\u001b[0m\u001b[0;34m=\u001b[0m\u001b[0morder\u001b[0m\u001b[0;34m,\u001b[0m \u001b[0mdtype\u001b[0m\u001b[0;34m=\u001b[0m\u001b[0mdtype\u001b[0m\u001b[0;34m)\u001b[0m\u001b[0;34m\u001b[0m\u001b[0;34m\u001b[0m\u001b[0m\n\u001b[0m\u001b[1;32m    747\u001b[0m             \u001b[0;32mexcept\u001b[0m \u001b[0mComplexWarning\u001b[0m \u001b[0;32mas\u001b[0m \u001b[0mcomplex_warning\u001b[0m\u001b[0;34m:\u001b[0m\u001b[0;34m\u001b[0m\u001b[0;34m\u001b[0m\u001b[0m\n\u001b[1;32m    748\u001b[0m                 raise ValueError(\n",
            "\u001b[0;32m/usr/local/lib/python3.7/dist-packages/pandas/core/generic.py\u001b[0m in \u001b[0;36m__array__\u001b[0;34m(self, dtype)\u001b[0m\n\u001b[1;32m   1991\u001b[0m \u001b[0;34m\u001b[0m\u001b[0m\n\u001b[1;32m   1992\u001b[0m     \u001b[0;32mdef\u001b[0m \u001b[0m__array__\u001b[0m\u001b[0;34m(\u001b[0m\u001b[0mself\u001b[0m\u001b[0;34m,\u001b[0m \u001b[0mdtype\u001b[0m\u001b[0;34m:\u001b[0m \u001b[0mNpDtype\u001b[0m \u001b[0;34m|\u001b[0m \u001b[0;32mNone\u001b[0m \u001b[0;34m=\u001b[0m \u001b[0;32mNone\u001b[0m\u001b[0;34m)\u001b[0m \u001b[0;34m->\u001b[0m \u001b[0mnp\u001b[0m\u001b[0;34m.\u001b[0m\u001b[0mndarray\u001b[0m\u001b[0;34m:\u001b[0m\u001b[0;34m\u001b[0m\u001b[0;34m\u001b[0m\u001b[0m\n\u001b[0;32m-> 1993\u001b[0;31m         \u001b[0;32mreturn\u001b[0m \u001b[0mnp\u001b[0m\u001b[0;34m.\u001b[0m\u001b[0masarray\u001b[0m\u001b[0;34m(\u001b[0m\u001b[0mself\u001b[0m\u001b[0;34m.\u001b[0m\u001b[0m_values\u001b[0m\u001b[0;34m,\u001b[0m \u001b[0mdtype\u001b[0m\u001b[0;34m=\u001b[0m\u001b[0mdtype\u001b[0m\u001b[0;34m)\u001b[0m\u001b[0;34m\u001b[0m\u001b[0;34m\u001b[0m\u001b[0m\n\u001b[0m\u001b[1;32m   1994\u001b[0m \u001b[0;34m\u001b[0m\u001b[0m\n\u001b[1;32m   1995\u001b[0m     def __array_wrap__(\n",
            "\u001b[0;31mValueError\u001b[0m: could not convert string to float: 'SANTANDER'"
          ]
        }
      ]
    },
    {
      "cell_type": "markdown",
      "source": [
        "###P2.1.3 exportando Data a un CSV con los arreglos (si son necesarios)."
      ],
      "metadata": {
        "id": "dZt6cLBk2qQQ"
      }
    },
    {
      "cell_type": "code",
      "source": [
        ""
      ],
      "metadata": {
        "id": "4gqcxnTgqf3N"
      },
      "execution_count": 17,
      "outputs": []
    },
    {
      "cell_type": "markdown",
      "source": [
        "###P2.1.4 eliminar columnas que no usaremos (object) "
      ],
      "metadata": {
        "id": "L5BhTkwcpPkP"
      }
    },
    {
      "cell_type": "code",
      "source": [
        ""
      ],
      "metadata": {
        "id": "0Mw1PNoz1wNg"
      },
      "execution_count": 17,
      "outputs": []
    },
    {
      "cell_type": "markdown",
      "source": [
        "##P2.2 graficando datos (40%)\n",
        "\n",
        "---\n",
        "\n",
        "*   Gráficos circulares \n",
        "*   Gráfico de dispersión (k-means) \n",
        "*   Histogramas\n",
        "*   uso de sabana de Graficas con seaborn\n",
        "*   Gráfico de historico (matplotlib.legend)\n",
        "*   matriz de correlación\n",
        "\n",
        "\n"
      ],
      "metadata": {
        "id": "gtyU8tdR1PbL"
      }
    },
    {
      "cell_type": "code",
      "source": [
        "##Codigo de los graficos"
      ],
      "metadata": {
        "id": "e-4M7Ngn5ATD"
      },
      "execution_count": 18,
      "outputs": []
    },
    {
      "cell_type": "markdown",
      "source": [
        "#P3. Algoritmo de k-means (30%)"
      ],
      "metadata": {
        "id": "YFDWxdn04pUs"
      }
    },
    {
      "cell_type": "markdown",
      "source": [
        "##P3.1 gráfica elbow o de codo (20%)"
      ],
      "metadata": {
        "id": "hv3BzfeY5uwH"
      }
    },
    {
      "cell_type": "code",
      "source": [
        "#Código del grafico de codo que me premite saber cual el la cantidad de centroides ideal"
      ],
      "metadata": {
        "id": "sk_d6-fN5xzC"
      },
      "execution_count": null,
      "outputs": []
    },
    {
      "cell_type": "markdown",
      "source": [
        "##P3.2 buscando los centroides (30%)"
      ],
      "metadata": {
        "id": "rvtuZpmL4wgq"
      }
    },
    {
      "cell_type": "code",
      "source": [
        "# codigo fuente para buscar centroidos"
      ],
      "metadata": {
        "id": "agK2iQY14-3b"
      },
      "execution_count": null,
      "outputs": []
    },
    {
      "cell_type": "markdown",
      "source": [
        "##P3.3 Etiquetado de datos. (20%)"
      ],
      "metadata": {
        "id": "ih5SySUl6BJh"
      }
    },
    {
      "cell_type": "code",
      "source": [
        "#código fuente de etiquetar el 100% de la data segun el kmeans.predict"
      ],
      "metadata": {
        "id": "DqI5m0A76GM4"
      },
      "execution_count": null,
      "outputs": []
    },
    {
      "cell_type": "markdown",
      "source": [
        "##P3.4 Representación gráfica de los clústeres k-means.(20%)\n",
        "\n",
        "---\n",
        "Una vez con los datos etiquetados, generar gráficamente en dos dimensiones el clustering realizado por k-means, usar dos variables\n"
      ],
      "metadata": {
        "id": "gh5amb1e6c-i"
      }
    },
    {
      "cell_type": "code",
      "source": [
        "# codigo del grafico"
      ],
      "metadata": {
        "id": "N8l8FcVn6tlc"
      },
      "execution_count": null,
      "outputs": []
    },
    {
      "cell_type": "markdown",
      "source": [
        "##P3.5 exportar el Dataset con los labels (10%)"
      ],
      "metadata": {
        "id": "ZtY9z1PLny0M"
      }
    },
    {
      "cell_type": "code",
      "source": [
        ""
      ],
      "metadata": {
        "id": "8Hg0Jr1Nn3QW"
      },
      "execution_count": null,
      "outputs": []
    },
    {
      "cell_type": "markdown",
      "source": [
        "#P4.algoritmo de machine Learning  (30%)\n",
        "\n",
        "---\n",
        "\n",
        "Seleccione un algoritmo (regresión lineal ó regresión logistica ó arboles de clasificación) que tenga la mejor inferencia"
      ],
      "metadata": {
        "id": "OJNj9AJa6v8w"
      }
    },
    {
      "cell_type": "markdown",
      "source": [
        "##P4.1 Preparación de los datos para el entrenamiento del modelo (10%)"
      ],
      "metadata": {
        "id": "o_imwtlK7R6L"
      }
    },
    {
      "cell_type": "code",
      "source": [
        ""
      ],
      "metadata": {
        "id": "SD6oBdDT7VQz"
      },
      "execution_count": null,
      "outputs": []
    },
    {
      "cell_type": "markdown",
      "source": [
        "##P4.2 Dividir los datos en conjuntos de entrenamiento (X %) y pruebas (X %) (30%)"
      ],
      "metadata": {
        "id": "1Kzm6ymO7ZBR"
      }
    },
    {
      "cell_type": "code",
      "source": [
        ""
      ],
      "metadata": {
        "id": "Ei5EjP3W7fpq"
      },
      "execution_count": null,
      "outputs": []
    },
    {
      "cell_type": "markdown",
      "source": [
        "##P4.3 Entrenando el modelo (20%)"
      ],
      "metadata": {
        "id": "HvMgD2e37jXH"
      }
    },
    {
      "cell_type": "code",
      "source": [
        ""
      ],
      "metadata": {
        "id": "xrzCaTxv7pwY"
      },
      "execution_count": null,
      "outputs": []
    },
    {
      "cell_type": "markdown",
      "source": [
        "##P4.4 Evaluación del modelo (40%)\n"
      ],
      "metadata": {
        "id": "sGusNrgU7qLS"
      }
    },
    {
      "cell_type": "code",
      "source": [
        ""
      ],
      "metadata": {
        "id": "I3OC2FTE7xLg"
      },
      "execution_count": null,
      "outputs": []
    },
    {
      "cell_type": "markdown",
      "source": [
        "##P4.5 la predicción es superior a 80%???"
      ],
      "metadata": {
        "id": "gj63LEmx7xzA"
      }
    }
  ]
}